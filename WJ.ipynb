{
 "cells": [
  {
   "cell_type": "code",
   "execution_count": null,
   "id": "02c5ae4f-f158-41bb-ba1f-b12177b0462c",
   "metadata": {},
   "outputs": [],
   "source": [
    "import pandas as pd\n",
    "import numpy as np\n",
    "import matplotlib.pyplot as plt\n",
    "import re\n",
    "plt.rcParams['font.family'] = 'AppleGothic'"
   ]
  },
  {
   "cell_type": "code",
   "execution_count": null,
   "id": "5d5d8c4d-180c-4d2f-a8a4-999d275e6e93",
   "metadata": {},
   "outputs": [],
   "source": [
    "ncd = pd.read_csv('/Users/user/Documents/진행중 업무/ncd_metering2.csv')"
   ]
  },
  {
   "cell_type": "code",
   "execution_count": null,
   "id": "805a20a7-078f-45d0-a95a-04e9303927a2",
   "metadata": {},
   "outputs": [],
   "source": [
    "woongjin = [1719, 2670458, 2753647, 2903722]\n",
    "wj = ncd[ncd['파트너사회원번호'].isin(woongjin)]\n",
    "wj_total_worth = wj['일요금(당일)'].sum()\n",
    "wj = wj.sort_values(by = ['회원번호','파트너사회원번호','plan','미터링일시'])\n",
    "wj = wj.drop_duplicates(subset = ['회원번호','파트너사회원번호','plan'],keep='last')\n",
    "wj.to_excel('/Users/user/Documents/진행중 업무/wj.xlsx',index=False)"
   ]
  },
  {
   "cell_type": "code",
   "execution_count": null,
   "id": "985e6db8-07a1-4892-ab8e-747c15a31cfb",
   "metadata": {},
   "outputs": [],
   "source": [
    "wj_total_worth"
   ]
  },
  {
   "cell_type": "code",
   "execution_count": null,
   "id": "d8fd6f47-9ef8-4cb0-ba52-83c1a9c67e53",
   "metadata": {},
   "outputs": [],
   "source": [
    "wj_works = wj[(wj['plan'].str[0:3]=='COR')]\n",
    "wj_drv = wj[(wj['plan'].str[0:3]=='DRV')]\n",
    "wj_place = wj[(wj['plan'].str[0:3].isin(['APP','ATT','FIN','PAY']))]\n",
    "wj_cnt = wj[(wj['plan'].str[0:3]=='CNT')]\n",
    "\n",
    "wj_works_paid = wj[(wj['plan'].str[0:3]=='COR')&(wj['paid_여부']=='Y')]\n",
    "wj_drv_paid = wj[(wj['plan'].str[0:3]=='DRV')&(wj['paid_여부']=='Y')]\n",
    "wj_place_paid = wj[(wj['plan'].str[0:3].isin(['APP','ATT','FIN','PAY']))&(wj['paid_여부']=='Y')]\n",
    "wj_cnt_paid = wj[(wj['plan'].str[0:3]=='CNT')&(wj['paid_여부']=='Y')]\n",
    "\n",
    "wj_works_trial = wj[(wj['plan'].str[0:3]=='COR')&(wj['paid_여부']=='N')]\n",
    "wj_drv_trial = wj[(wj['plan'].str[0:3]=='DRV')&(wj['paid_여부']=='N')]\n",
    "wj_place_trial = wj[(wj['plan'].str[0:3].isin(['APP','ATT','FIN','PAY']))&(wj['paid_여부']=='N')]\n",
    "wj_cnt_trial = wj[(wj['plan'].str[0:3]=='CNT')&(wj['paid_여부']=='N')]\n",
    "\n",
    "wj_app = wj[wj['plan'].str[0:3]=='APP']\n",
    "wj_app_paid = wj[(wj['plan'].str[0:3]=='APP')&(wj['paid_여부']=='Y')]\n",
    "wj_app_trial = wj[(wj['plan'].str[0:3]=='APP')&(wj['paid_여부']=='N')]"
   ]
  },
  {
   "cell_type": "code",
   "execution_count": null,
   "id": "be6bcc74-14fe-4262-a804-17033a7da179",
   "metadata": {},
   "outputs": [],
   "source": [
    "plan_counts = wj_works_paid['plan'].value_counts()\n",
    "\n",
    "plt.figure(figsize=(8, 6))\n",
    "plt.pie(plan_counts, labels=plan_counts.index, autopct='%1.1f%%', startangle=140)\n",
    "plt.title('Plan Distribution in wj_works_paid')\n",
    "plt.show()"
   ]
  },
  {
   "cell_type": "code",
   "execution_count": null,
   "id": "368abc3d-b903-4ee0-a944-213eaa32d977",
   "metadata": {},
   "outputs": [],
   "source": [
    "bins = [1, 2, 3, 4, 5, 6, 7, 8, 9, 10, 20, 30, 40, 50, 60, 70, 80, 90, 100, \n",
    "        200, 300, 400, 500, 600, 700, 800, 900, 1000, 2000, 3000, 4000, 5000, \n",
    "        6000, 7000, 8000, 9000, 10000, 100000]\n",
    "\n",
    "data_counts, _ = np.histogram(wj_works_paid['사용량'], bins=bins)\n",
    "\n",
    "x_positions = np.arange(len(bins) - 1)\n",
    "\n",
    "labels = [\n",
    "    f\"{bins[i]}\" if bins[i] < 10 else \n",
    "    (f\"{bins[i]} 이상 {bins[i+1]} 미만\" if i < len(bins) - 2 else f\"{bins[i]} 이상\")\n",
    "    for i in range(len(bins) - 1)\n",
    "]\n",
    "\n",
    "plt.figure(figsize=(14, 6))\n",
    "plt.bar(x_positions, data_counts, align='center', edgecolor='black')\n",
    "plt.xlabel('유저수')\n",
    "plt.ylabel('빈도')\n",
    "plt.title('wj_works_paid 유저수 분포 히스토그램')\n",
    "\n",
    "plt.xticks(x_positions, labels, rotation=45, ha='right')\n",
    "plt.show()"
   ]
  },
  {
   "cell_type": "code",
   "execution_count": null,
   "id": "0b421e0b-2abc-4a24-9cf9-3038acd72190",
   "metadata": {},
   "outputs": [],
   "source": [
    "bins = [1, 2, 3, 4, 5, 6, 7, 8, 9, 10, 20, 30, 40, 50, 60, 70, 80, 90, 100, \n",
    "        200, 300, 400, 500, 600, 700, 800, 900, 1000, 2000, 3000, 4000, 5000, \n",
    "        6000, 7000, 8000, 9000, 10000, 100000]\n",
    "\n",
    "data_counts, _ = np.histogram(wj_app_paid['사용량'], bins=bins)\n",
    "\n",
    "x_positions = np.arange(len(bins) - 1)\n",
    "\n",
    "labels = [\n",
    "    f\"{bins[i]}\" if bins[i] < 10 else \n",
    "    (f\"{bins[i]} 이상 {bins[i+1]} 미만\" if i < len(bins) - 2 else f\"{bins[i]} 이상\")\n",
    "    for i in range(len(bins) - 1)\n",
    "]\n",
    "\n",
    "plt.figure(figsize=(14, 6))\n",
    "plt.bar(x_positions, data_counts, align='center', edgecolor='black')\n",
    "plt.xlabel('유저수')\n",
    "plt.ylabel('빈도')\n",
    "plt.title('wj_app_paid 유저수 분포 히스토그램')\n",
    "\n",
    "plt.xticks(x_positions, labels, rotation=45, ha='right')\n",
    "plt.show()"
   ]
  },
  {
   "cell_type": "code",
   "execution_count": null,
   "id": "8ab952f6-1156-45b3-9f21-9c0e7b046c2c",
   "metadata": {},
   "outputs": [],
   "source": [
    "len(wj_works_trial[wj_works_trial['전환여부']=='Y'])/len(wj_works_trial)"
   ]
  },
  {
   "cell_type": "code",
   "execution_count": null,
   "id": "76bf6398-161a-4cb1-bfad-80f61030d870",
   "metadata": {},
   "outputs": [],
   "source": [
    "len(wj_app_trial[wj_app_trial['전환여부']=='Y'])/len(wj_app_trial)"
   ]
  },
  {
   "cell_type": "code",
   "execution_count": null,
   "id": "b77fb819-f4a5-461a-9219-8f0e02b49853",
   "metadata": {},
   "outputs": [],
   "source": [
    "plan_counts = ncd['plan'].value_counts()\n",
    "\n",
    "plt.figure(figsize=(8, 6))\n",
    "plt.pie(plan_counts, labels=plan_counts.index, autopct='%1.1f%%', startangle=140)\n",
    "plt.title('Plan Distribution in wj_works_paid')\n",
    "plt.show()"
   ]
  }
 ],
 "metadata": {
  "kernelspec": {
   "display_name": "Python 3 (ipykernel)",
   "language": "python",
   "name": "python3"
  },
  "language_info": {
   "codemirror_mode": {
    "name": "ipython",
    "version": 3
   },
   "file_extension": ".py",
   "mimetype": "text/x-python",
   "name": "python",
   "nbconvert_exporter": "python",
   "pygments_lexer": "ipython3",
   "version": "3.12.4"
  }
 },
 "nbformat": 4,
 "nbformat_minor": 5
}
