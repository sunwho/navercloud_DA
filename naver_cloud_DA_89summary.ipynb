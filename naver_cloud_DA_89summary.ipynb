{
 "cells": [
  {
   "cell_type": "code",
   "execution_count": 8,
   "id": "a39c9340-8c3c-45ba-ab94-0d7ba05a7022",
   "metadata": {},
   "outputs": [],
   "source": [
    "import pandas as pd\n",
    "import numpy as np\n",
    "import matplotlib.pyplot as plt\n",
    "import re"
   ]
  },
  {
   "cell_type": "code",
   "execution_count": 9,
   "id": "83fbe955-f6f2-44c0-982c-e43c0586fb3f",
   "metadata": {},
   "outputs": [],
   "source": [
    "ncd_app7 = pd.read_excel('/Users/user/Documents/NCD 데이터/ncd_app7.xlsx')\n",
    "ncd_att7 = pd.read_excel('/Users/user/Documents/NCD 데이터/ncd_att7.xlsx')\n",
    "ncd_box7 = pd.read_excel('/Users/user/Documents/NCD 데이터/ncd_box7.xlsx')\n",
    "ncd_corlt7 = pd.read_excel('/Users/user/Documents/NCD 데이터/ncd_corlt7.xlsx')\n",
    "ncd_corstd7 = pd.read_excel('/Users/user/Documents/NCD 데이터/ncd_corstd7.xlsx')\n",
    "ncd_corstdp7 = pd.read_excel('/Users/user/Documents/NCD 데이터/ncd_corstdp7.xlsx')\n",
    "ncd_cort7 = pd.read_excel('/Users/user/Documents/NCD 데이터/ncd_cort7.xlsx')\n",
    "ncd_drv7 = pd.read_excel('/Users/user/Documents/NCD 데이터/ncd_drv7.xlsx')\n",
    "ncd_fin7 = pd.read_excel('/Users/user/Documents/NCD 데이터/ncd_fin7.xlsx')\n",
    "ncd_pay7 = pd.read_excel('/Users/user/Documents/NCD 데이터/ncd_pay7.xlsx')"
   ]
  },
  {
   "cell_type": "code",
   "execution_count": 11,
   "id": "06b364a9-4b9e-48b8-b50a-4537ffcf9e1c",
   "metadata": {},
   "outputs": [],
   "source": [
    "ncd_app8 = pd.read_excel('/Users/user/Documents/NCD 데이터/ncd_app8.xlsx')\n",
    "ncd_att8 = pd.read_excel('/Users/user/Documents/NCD 데이터/ncd_att8.xlsx')\n",
    "ncd_box8 = pd.read_excel('/Users/user/Documents/NCD 데이터/ncd_box8.xlsx')\n",
    "ncd_corlt8 = pd.read_excel('/Users/user/Documents/NCD 데이터/ncd_corlt8.xlsx')\n",
    "ncd_corstd8 = pd.read_excel('/Users/user/Documents/NCD 데이터/ncd_corstd8.xlsx')\n",
    "ncd_corstdp8 = pd.read_excel('/Users/user/Documents/NCD 데이터/ncd_corstdp8.xlsx')\n",
    "ncd_cort8 = pd.read_excel('/Users/user/Documents/NCD 데이터/ncd_cort8.xlsx')\n",
    "ncd_drv8 = pd.read_excel('/Users/user/Documents/NCD 데이터/ncd_drv8.xlsx')\n",
    "ncd_fin8 = pd.read_excel('/Users/user/Documents/NCD 데이터/ncd_fin8.xlsx')\n",
    "ncd_pay8 = pd.read_excel('/Users/user/Documents/NCD 데이터/ncd_pay8.xlsx')"
   ]
  },
  {
   "cell_type": "code",
   "execution_count": 12,
   "id": "52ee64b9-d854-425d-a6d3-d6c04fa02b73",
   "metadata": {},
   "outputs": [],
   "source": [
    "ncd_app9 = pd.read_excel('/Users/user/Documents/NCD 데이터/ncd_app9.xlsx')\n",
    "ncd_att9 = pd.read_excel('/Users/user/Documents/NCD 데이터/ncd_att9.xlsx')\n",
    "ncd_box9 = pd.read_excel('/Users/user/Documents/NCD 데이터/ncd_box9.xlsx')\n",
    "ncd_corlt9 = pd.read_excel('/Users/user/Documents/NCD 데이터/ncd_corlt9.xlsx')\n",
    "ncd_corstd9 = pd.read_excel('/Users/user/Documents/NCD 데이터/ncd_corstd9.xlsx')\n",
    "ncd_corstdp9 = pd.read_excel('/Users/user/Documents/NCD 데이터/ncd_corstdp9.xlsx')\n",
    "ncd_cort9 = pd.read_excel('/Users/user/Documents/NCD 데이터/ncd_cort9.xlsx')\n",
    "ncd_drv9 = pd.read_excel('/Users/user/Documents/NCD 데이터/ncd_drv9.xlsx')\n",
    "ncd_fin9 = pd.read_excel('/Users/user/Documents/NCD 데이터/ncd_fin9.xlsx')\n",
    "ncd_pay9 = pd.read_excel('/Users/user/Documents/NCD 데이터/ncd_pay9.xlsx')"
   ]
  },
  {
   "cell_type": "code",
   "execution_count": 13,
   "id": "e8696425-be87-4f0e-9ea2-0f476f9a5423",
   "metadata": {},
   "outputs": [],
   "source": [
    "ncd_app10 = pd.read_excel('/Users/user/Documents/NCD 데이터/ncd_app10.xlsx')\n",
    "ncd_att10 = pd.read_excel('/Users/user/Documents/NCD 데이터/ncd_att10.xlsx')\n",
    "ncd_box10 = pd.read_excel('/Users/user/Documents/NCD 데이터/ncd_box10.xlsx')\n",
    "ncd_corlt10 = pd.read_excel('/Users/user/Documents/NCD 데이터/ncd_corlt10.xlsx')\n",
    "ncd_corstd10 = pd.read_excel('/Users/user/Documents/NCD 데이터/ncd_corstd10.xlsx')\n",
    "ncd_corstdp10 = pd.read_excel('/Users/user/Documents/NCD 데이터/ncd_corstdp10.xlsx')\n",
    "ncd_cort10 = pd.read_excel('/Users/user/Documents/NCD 데이터/ncd_cort10.xlsx')\n",
    "ncd_drv10 = pd.read_excel('/Users/user/Documents/NCD 데이터/ncd_drv10.xlsx')\n",
    "ncd_fin10 = pd.read_excel('/Users/user/Documents/NCD 데이터/ncd_fin10.xlsx')\n",
    "ncd_pay10 = pd.read_excel('/Users/user/Documents/NCD 데이터/ncd_pay10.xlsx')"
   ]
  },
  {
   "cell_type": "code",
   "execution_count": 28,
   "id": "fc1c1d09-cdd1-492d-b77d-973b36972d51",
   "metadata": {},
   "outputs": [],
   "source": [
    "ncd_box7['사용량'] = ncd_box7['상품사이즈']\n",
    "ncd_box7['사용량'] = ncd_box7['사용량'].fillna(0)\n",
    "ncd_box8['사용량'] = ncd_box8['상품사이즈']\n",
    "ncd_box8['사용량'] = ncd_box8['사용량'].fillna(0)\n",
    "ncd_box9['사용량'] = ncd_box9['상품사이즈']\n",
    "ncd_box9['사용량'] = ncd_box9['사용량'].fillna(0)\n",
    "ncd_box10['사용량'] = ncd_box10['상품사이즈']\n",
    "ncd_box10['사용량'] = ncd_box10['사용량'].fillna(0)\n",
    "ncd7 = pd.concat([ncd_app7, ncd_att7, ncd_corlt7, ncd_corstd7, ncd_corstdp7, ncd_cort7, ncd_drv7, ncd_fin7, ncd_pay7])\n",
    "ncd8 = pd.concat([ncd_app8, ncd_att8, ncd_corlt8, ncd_corstd8, ncd_corstdp8, ncd_cort8, ncd_drv8, ncd_fin8, ncd_pay8])\n",
    "ncd9 = pd.concat([ncd_app9, ncd_att9, ncd_corlt9, ncd_corstd9, ncd_corstdp9, ncd_cort9, ncd_drv9, ncd_fin9, ncd_pay9])\n",
    "ncd10 = pd.concat([ncd_app10, ncd_att10, ncd_corlt10, ncd_corstd10, ncd_corstdp10, ncd_cort10, ncd_drv10, ncd_fin10, ncd_pay10])"
   ]
  },
  {
   "cell_type": "code",
   "execution_count": 29,
   "id": "2514fc19-7443-459e-a97f-73ee3f2d715a",
   "metadata": {},
   "outputs": [],
   "source": [
    "ncd = pd.concat([ncd7, ncd8, ncd9, ncd10])"
   ]
  },
  {
   "cell_type": "code",
   "execution_count": 30,
   "id": "4d89f7ae-7707-4aaf-a5c8-5e411c2c07fe",
   "metadata": {},
   "outputs": [],
   "source": [
    "ncd = ncd.reset_index(drop=True)\n",
    "ncd = ncd[ncd['사용량'] != 0]\n",
    "ncd = ncd[ncd['요금'] != 0]\n",
    "ncd = ncd[ncd['회원그룹명'] != '내부회원']\n",
    "ncd['구분1'] = 'Business Application'\n",
    "ncd['구분2'] = 'Business Applications'\n",
    "ncd['구분3'] = ncd['인스턴스유형코드명']\n",
    "ncd['상품명'] = ncd['미터링유형코드명']\n",
    "ncd['플랫폼'] = '민간'\n",
    "ncd['리전명_y'] = '한국'\n",
    "ncd['리전번호_y'] = 1"
   ]
  },
  {
   "cell_type": "code",
   "execution_count": 31,
   "id": "998d1ee0-0a09-4d2e-9300-26cc041f8103",
   "metadata": {},
   "outputs": [],
   "source": [
    "ncd['dayCount'] = ncd.groupby(['회원번호', '미터링유형코드명'])['회원번호'].transform('size')\n",
    "ncd['paid user 여부'] = ncd['요금'].apply(lambda x : 'trial' if x == 0 else 'paid')\n",
    "ncd['약정할인금액'] = np.where(\n",
    "    (ncd['미터링유형코드명'].isin(['웍스 코어 Standard Plus'])) & (ncd['약정여부'] == 'Y'), \n",
    "    2000, \n",
    "    np.where(\n",
    "        (ncd['미터링유형코드명'].isin(['웍스 코어 Lite','웍스 코어 Standard','웍스 드라이브 Lite','웍스 드라이브 Standard','웍스 드라이브 Standard Plus'])) & (ncd['약정여부'] == 'Y'), \n",
    "        1000,\n",
    "        np.where(\n",
    "            (ncd['미터링유형코드명'].isin(['웍스 급여'])) & (ncd['약정여부'] == 'Y'), \n",
    "            1500,\n",
    "            np.where(\n",
    "                (ncd['미터링유형코드명'].isin(['웍스 결재'])) & (ncd['약정여부'] == 'Y'), \n",
    "                1000, \n",
    "                np.where(\n",
    "                    (ncd['미터링유형코드명'].isin(['웍스 근태','웍스 재무'])) & (ncd['약정여부'] == 'Y'), \n",
    "                    50,\n",
    "                    np.where(\n",
    "                        (ncd['미터링유형코드명'].isin(['웍스 코어 Lite','웍스 코어 Standard','웍스 코어 Standard Plus','웍스 드라이브 Lite','웍스 드라이브 Standard','웍스 드라이브 Standard Plus','웍스 결재','웍스 근태','웍스 재무','웍스 급여'])) & (ncd['약정여부'] == 'N'), \n",
    "                        0, \n",
    "                        0\n",
    "                    )\n",
    "                    \n",
    "                )\n",
    "            )\n",
    "        )\n",
    "    )\n",
    ")\n",
    "ncd['미터링일시'] = ncd['미터링일시'].astype(str)\n",
    "ncd['월별일수'] = np.where(\n",
    "    ncd['미터링일시'].str[4:6].isin(['01', '03', '05', '07', '08', '10', '12']),\n",
    "    31,\n",
    "    np.where(\n",
    "        ncd['미터링일시'].str[4:6].isin(['04', '06', '09', '11']),\n",
    "        30,\n",
    "        np.where(\n",
    "            (ncd['미터링일시'].str[0:4].astype(int) % 4 == 0),\n",
    "            29, \n",
    "            28\n",
    "        )\n",
    "    )\n",
    ")\n",
    "\n",
    "ncd['일요금(당일)'] = (ncd['요금']/ncd['월별일수'])*ncd['사용량']\n",
    "ncd['약정할인 후 요금'] = ncd['요금'] - ncd['약정할인금액']\n",
    "ncd['약정할인율'] = ncd['약정할인금액']/ncd['요금']\n",
    "ncd['결합할인 여부'] = 'Y'\n",
    "ncd.loc[ncd['미터링유형코드명'].isin(['웍스 근태', '웍스 재무', '웍스 급여']), '결합할인 여부'] = 'N'\n",
    "ncd['결합할인 여부'] = np.where(\n",
    "    (ncd.duplicated(subset=['회원번호','미터링일시','paid user 여부','약정여부','결합할인 여부'], keep=False)) & (ncd['paid user 여부'] == 'paid') & (ncd['약정여부'] == 'Y') & (ncd['결합할인 여부'] == 'Y'),\n",
    "    'Y',\n",
    "    'N')\n",
    "ncd.loc[ncd['약정여부'] == 'N', '결합할인 여부'] = 'N'\n",
    "ncd['미터링일시'] = ncd['미터링일시'].astype(str)\n",
    "ncd['일매출(당일)'] = np.where(\n",
    "    (ncd['결합할인 여부'] == 'Y'),\n",
    "    ((ncd['요금']/ncd['월별일수'])*ncd['사용량']*(1-ncd['약정할인율']))*0.9,\n",
    "    (ncd['요금']/ncd['월별일수'])*ncd['사용량']*(1-ncd['약정할인율']))"
   ]
  },
  {
   "cell_type": "code",
   "execution_count": 32,
   "id": "84c712ad-253d-425d-b622-0242ad144143",
   "metadata": {},
   "outputs": [
    {
     "data": {
      "text/plain": [
       "Index(['회원번호', '회원그룹코드', '회원그룹명', '파트너사회원번호', '청구유형코드', '청구유형코드명', '청구유형상세코드',\n",
       "       '청구유형상세코드명', '인스턴스유형코드', '인스턴스유형코드명', '미터링유형코드', '미터링유형코드명', '계약번호',\n",
       "       '인스턴스번호', '리전번호', '리전명', '계약상품일련번호', '약정여부', '요금', '미터링일시', '사용량',\n",
       "       '상품사이즈', '상품갯수', '이벤트사용량', '사용량단위코드', '사용량단위명', '구분1', '구분2', '구분3',\n",
       "       '상품명', '플랫폼', '리전명_y', '리전번호_y', 'paid user 여부', '약정할인금액', '월별일수',\n",
       "       '일요금(당일)', '약정할인 후 요금', '약정할인율', '결합할인 여부', '일매출(당일)', '일매출(전일)',\n",
       "       '일매출 증가율', '누적 일매출', '월매출(당월)', '월요금(당월)'],\n",
       "      dtype='object')"
      ]
     },
     "execution_count": 32,
     "metadata": {},
     "output_type": "execute_result"
    }
   ],
   "source": [
    "ncd = ncd.sort_values(by=['회원번호', '미터링유형코드명', '미터링일시'])\n",
    "ncd['일매출(전일)'] = ncd.groupby(['회원번호', '미터링유형코드명'])['일매출(당일)'].shift(1)\n",
    "ncd['일매출 증가율'] = ((ncd['일매출(당일)'] - ncd['일매출(전일)']) / ncd['일매출(전일)'])\n",
    "ncd['누적 일매출'] = ncd.groupby(['회원번호', '미터링유형코드명'])['일매출(당일)'].cumsum()\n",
    "ncd['월매출(당월)'] = ncd.groupby(['회원번호', '미터링유형코드명'])['일매출(당일)'].transform('sum')\n",
    "ncd['월요금(당월)'] = ncd.groupby(['회원번호', '미터링유형코드명'])['일요금(당일)'].transform('sum')\n",
    "ncd = ncd.drop(['dayCount'], axis = 1)\n",
    "ncd = ncd.sort_values(by=['회원번호', '미터링유형코드명', '미터링일시'], ascending = [True, False, True])\n",
    "ncd = ncd.reset_index(drop=True)\n",
    "ncd.columns"
   ]
  },
  {
   "cell_type": "code",
   "execution_count": 33,
   "id": "eb0e196a-1647-42ae-ab6c-f60ed3aa0769",
   "metadata": {},
   "outputs": [],
   "source": [
    "ncd .loc[ncd['미터링유형코드명'].str[:5] == '웍스 드라', '청구유형코드명'] = 'WORKBOX'\n",
    "ncd.loc[ncd['미터링유형코드명'].isin(['웍스 결재','웍스 근태','웍스 재무','웍스 급여']), '청구유형코드명'] = 'WORKPLACE'\n",
    "ncd = ncd[['회원번호','회원그룹코드','회원그룹명','파트너사회원번호','청구유형코드명','미터링유형코드명','미터링일시','사용량','paid user 여부','약정여부']]"
   ]
  },
  {
   "cell_type": "code",
   "execution_count": 34,
   "id": "975ec527-c02f-4518-98e8-9007276d1391",
   "metadata": {},
   "outputs": [],
   "source": [
    "ncd8 = ncd[ncd['미터링일시'].str[0:6] == '202408']\n",
    "ncd9 = ncd[ncd['미터링일시'].str[0:6] == '202409']"
   ]
  },
  {
   "cell_type": "code",
   "execution_count": 36,
   "id": "9c2359f6-62cb-4753-b70c-7b80fddfc851",
   "metadata": {},
   "outputs": [],
   "source": [
    "ncd_first = ncd.drop_duplicates(subset=['회원번호', '미터링유형코드명'], keep='first').reset_index(drop=True)\n",
    "ncd8_first = ncd8.drop_duplicates(subset=['회원번호', '미터링유형코드명'], keep='first').reset_index(drop=True)\n",
    "ncd9_first = ncd9.drop_duplicates(subset=['회원번호', '미터링유형코드명'], keep='first').reset_index(drop=True)\n",
    "no_boa8 = pd.read_excel('/Users/user/Documents/업무문서/no_boa8.xlsx')\n",
    "ncd_first = ncd_first[~ncd_first['회원번호'].isin(no_boa8['회원번호'])]"
   ]
  },
  {
   "cell_type": "code",
   "execution_count": 37,
   "id": "e6761efc-91e0-417c-8760-bf9d6e4a05cc",
   "metadata": {},
   "outputs": [],
   "source": [
    "all8 = ncd8_first\n",
    "all8.columns = ['회원번호','회원그룹코드','회원그룹명','파트너사회원번호','구분','상품명','미터링일시','사용량','paid user 여부','약정여부']\n",
    "all8 = all8[['회원번호','회원그룹코드','회원그룹명','파트너사회원번호','구분','사용량','paid user 여부','약정여부']]\n",
    "all8 = all8.drop_duplicates(subset=['회원번호', '구분'], keep='first').reset_index(drop=True)\n",
    "all8 = all8.sort_values(by='회원번호')\n",
    "all8.to_excel('/Users/user/Documents/업무문서/all8.xlsx',index=False)"
   ]
  },
  {
   "cell_type": "code",
   "execution_count": 38,
   "id": "d5947754-863b-49b6-a546-e49c61943d62",
   "metadata": {},
   "outputs": [],
   "source": [
    "all9 = ncd9_first\n",
    "all9.columns = ['회원번호','회원그룹코드','회원그룹명','파트너사회원번호','구분','상품명','미터링일시','사용량','paid user 여부','약정여부']\n",
    "all9 = all9[['회원번호','회원그룹코드','회원그룹명','파트너사회원번호','구분','사용량','paid user 여부','약정여부']]\n",
    "all9 = all9.drop_duplicates(subset=['회원번호', '구분'], keep='first').reset_index(drop=True)\n",
    "all9 = all9.sort_values(by='회원번호')\n",
    "all9.to_excel('/Users/user/Documents/업무문서/all9.xlsx',index=False)"
   ]
  },
  {
   "cell_type": "code",
   "execution_count": 40,
   "id": "9172feab-e88e-43af-b9b5-4f7a81c04401",
   "metadata": {},
   "outputs": [],
   "source": [
    "new = ncd_first[ncd_first['미터링일시'].str.startswith(('202408', '202409'))]\n",
    "new.columns = ['회원번호','회원그룹코드','회원그룹명','파트너사회원번호','구분','상품명','가입일','사용량','paid user 여부','약정여부']\n",
    "new = new[['회원번호','회원그룹코드','회원그룹명','파트너사회원번호','구분','상품명','가입일','사용량','paid user 여부','약정여부']]\n",
    "new = new.sort_values(by='가입일')\n",
    "new.to_excel('/Users/user/Documents/업무문서/new.xlsx',index=False)"
   ]
  },
  {
   "cell_type": "code",
   "execution_count": 41,
   "id": "bbbc7d10-a87d-4d0b-b979-71f5bfbe4b13",
   "metadata": {},
   "outputs": [],
   "source": [
    "ncd_last = ncd.drop_duplicates(subset=['회원번호', '미터링유형코드명'], keep='last').reset_index(drop=True)\n",
    "ncd_last = ncd_last[~ncd_last['회원번호'].isin(no_boa8['회원번호'])]"
   ]
  },
  {
   "cell_type": "code",
   "execution_count": 42,
   "id": "26441998-4caa-4b4e-9d35-bbb2759b6652",
   "metadata": {},
   "outputs": [],
   "source": [
    "churn = ncd_last[ncd_last['미터링일시'].str.startswith(('202408', '202409'))]\n",
    "churn.columns = ['회원번호','회원그룹코드','회원그룹명','파트너사회원번호','구분','상품명','탈퇴일','사용량','paid user 여부','약정여부']\n",
    "churn = churn[['회원번호','회원그룹코드','회원그룹명','파트너사회원번호','구분','상품명','탈퇴일','사용량','paid user 여부','약정여부']]\n",
    "churn = churn.sort_values(by='탈퇴일')\n",
    "churn.to_excel('/Users/user/Documents/업무문서/churn.xlsx',index=False)"
   ]
  },
  {
   "cell_type": "code",
   "execution_count": 43,
   "id": "dbc0b629-a912-4588-88e7-543961675aad",
   "metadata": {},
   "outputs": [],
   "source": [
    "new = new.drop_duplicates(subset=['회원번호', '구분'], keep='first').reset_index(drop=True)\n",
    "new8 = new[new['가입일'].str[0:6] == '202408']\n",
    "new9 = new[new['가입일'].str[0:6] == '202409']\n",
    "churn = churn.drop_duplicates(subset=['회원번호', '구분'], keep='last').reset_index(drop=True)\n",
    "churn8 = churn[churn['탈퇴일'].str[0:6] == '202408']\n",
    "churn9 = churn[churn['탈퇴일'].str[0:6] == '202409']"
   ]
  },
  {
   "cell_type": "code",
   "execution_count": 44,
   "id": "c12a5746-8930-44a9-9943-b4aaec64f923",
   "metadata": {},
   "outputs": [],
   "source": [
    "def summary (df) :\n",
    "    od_y_1 = df[(df['회원그룹코드'].isin(['GEN','SLS']))&(df['약정여부']=='Y')]['회원번호'].count()\n",
    "    od_n_1 = df[(df['회원그룹코드'].isin(['GEN','SLS']))&(df['약정여부']=='N')]['회원번호'].count()\n",
    "    pt_y_1 = df[(df['회원그룹코드'].isin(['PATR']))&(df['약정여부']=='Y')]['회원번호'].count()\n",
    "    pt_n_1 = df[(df['회원그룹코드'].isin(['PATR']))&(df['약정여부']=='N')]['회원번호'].count()\n",
    "    od_y_2 = df[(df['회원그룹코드'].isin(['GEN','SLS']))&(df['약정여부']=='Y')]['사용량'].sum()\n",
    "    od_n_2 = df[(df['회원그룹코드'].isin(['GEN','SLS']))&(df['약정여부']=='N')]['사용량'].sum()\n",
    "    pt_y_2 = df[(df['회원그룹코드'].isin(['PATR']))&(df['약정여부']=='Y')]['사용량'].sum()\n",
    "    pt_n_2 = df[(df['회원그룹코드'].isin(['PATR']))&(df['약정여부']=='N')]['사용량'].sum()\n",
    "    print(od_y_1)\n",
    "    print(od_n_1)\n",
    "    print(pt_y_1)\n",
    "    print(pt_n_1)\n",
    "    print(od_y_2)\n",
    "    print(od_n_2)\n",
    "    print(pt_y_2)\n",
    "    print(pt_n_2)"
   ]
  },
  {
   "cell_type": "code",
   "execution_count": 45,
   "id": "8a828996-8004-438c-bd5d-ad28b844a8ae",
   "metadata": {},
   "outputs": [],
   "source": [
    "all8_works = all8[all8['구분']=='NAVER WORKS']\n",
    "all9_works = all9[all9['구분']=='NAVER WORKS']\n",
    "all8_box = all8[all8['구분']=='WORKBOX']\n",
    "all9_box = all9[all9['구분']=='WORKBOX']\n",
    "all8_place = all8[all8['구분']=='WORKPLACE']\n",
    "all9_place = all9[all9['구분']=='WORKPLACE']\n",
    "new8_works = new8[new8['구분']=='NAVER WORKS']\n",
    "new9_works = new9[new9['구분']=='NAVER WORKS']\n",
    "new8_box = new8[new8['구분']=='WORKBOX']\n",
    "new9_box = new9[new9['구분']=='WORKBOX']\n",
    "new8_place = new8[new8['구분']=='WORKPLACE']\n",
    "new9_place = new9[new9['구분']=='WORKPLACE']\n",
    "churn8_works = churn8[churn8['구분']=='NAVER WORKS']\n",
    "churn9_works = churn9[churn9['구분']=='NAVER WORKS']\n",
    "churn8_box = churn8[churn8['구분']=='WORKBOX']\n",
    "churn9_box = churn9[churn9['구분']=='WORKBOX']\n",
    "churn8_place = churn8[churn8['구분']=='WORKPLACE']\n",
    "churn9_place = churn9[churn9['구분']=='WORKPLACE']"
   ]
  },
  {
   "cell_type": "code",
   "execution_count": 66,
   "id": "cf1c3d4c-4292-4ebb-b72b-592d598c6c2e",
   "metadata": {},
   "outputs": [
    {
     "name": "stdout",
     "output_type": "stream",
     "text": [
      "5\n",
      "3\n",
      "0\n",
      "0\n",
      "54.0\n",
      "7.0\n",
      "0.0\n",
      "0.0\n"
     ]
    }
   ],
   "source": [
    "summary(churn9_box)"
   ]
  },
  {
   "cell_type": "code",
   "execution_count": null,
   "id": "f14c78e1-009d-4730-b263-7532df09848a",
   "metadata": {},
   "outputs": [],
   "source": []
  }
 ],
 "metadata": {
  "kernelspec": {
   "display_name": "Python 3 (ipykernel)",
   "language": "python",
   "name": "python3"
  },
  "language_info": {
   "codemirror_mode": {
    "name": "ipython",
    "version": 3
   },
   "file_extension": ".py",
   "mimetype": "text/x-python",
   "name": "python",
   "nbconvert_exporter": "python",
   "pygments_lexer": "ipython3",
   "version": "3.12.4"
  }
 },
 "nbformat": 4,
 "nbformat_minor": 5
}
