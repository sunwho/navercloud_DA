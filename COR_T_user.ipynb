{
 "cells": [
  {
   "cell_type": "code",
   "execution_count": 1,
   "id": "669cf1e3-b972-43c2-ad9d-f5bbe54e97fc",
   "metadata": {},
   "outputs": [],
   "source": [
    "import pandas as pd\n",
    "import numpy as np\n",
    "import matplotlib.pyplot as plt\n",
    "import re"
   ]
  },
  {
   "cell_type": "code",
   "execution_count": 3,
   "id": "be5aefa7-b78c-4a0b-85ef-c52a707219f7",
   "metadata": {},
   "outputs": [
    {
     "name": "stderr",
     "output_type": "stream",
     "text": [
      "/var/folders/yj/y3b7nzyn7zv0l9bkqtj_37g40000gn/T/ipykernel_70492/4125878327.py:1: DtypeWarning: Columns (31,35,36,41,43,47,48,49,50) have mixed types. Specify dtype option on import or set low_memory=False.\n",
      "  ncd = pd.read_csv('/Users/user/Documents/진행중 업무/ncd_metering2.csv')\n"
     ]
    }
   ],
   "source": [
    "ncd = pd.read_csv('/Users/user/Documents/진행중 업무/ncd_metering2.csv')"
   ]
  },
  {
   "cell_type": "code",
   "execution_count": 4,
   "id": "96862e4b-b2ab-4484-ad9e-f6c2e3819d78",
   "metadata": {},
   "outputs": [],
   "source": [
    "ncd7 = ncd[ncd['regist_ymd'].str[0:7] == '2024.7.']\n",
    "ncd_cort7 = ncd7[ncd7['plan'] == 'COR_T']"
   ]
  },
  {
   "cell_type": "code",
   "execution_count": 5,
   "id": "ac43d74e-7e3f-4cd8-bb2b-0792861ebc31",
   "metadata": {},
   "outputs": [
    {
     "name": "stderr",
     "output_type": "stream",
     "text": [
      "/var/folders/yj/y3b7nzyn7zv0l9bkqtj_37g40000gn/T/ipykernel_53220/415252145.py:11: DeprecationWarning: DataFrameGroupBy.apply operated on the grouping columns. This behavior is deprecated, and in a future version of pandas the grouping columns will be excluded from the operation. Either pass `include_groups=False` to exclude the groupings or explicitly select the grouping columns after groupby to silence this warning.\n",
      "  result = df.groupby(['회원번호', 'regist_ymd'], as_index=False).apply(\n"
     ]
    },
    {
     "data": {
      "text/html": [
       "<div>\n",
       "<style scoped>\n",
       "    .dataframe tbody tr th:only-of-type {\n",
       "        vertical-align: middle;\n",
       "    }\n",
       "\n",
       "    .dataframe tbody tr th {\n",
       "        vertical-align: top;\n",
       "    }\n",
       "\n",
       "    .dataframe thead th {\n",
       "        text-align: right;\n",
       "    }\n",
       "</style>\n",
       "<table border=\"1\" class=\"dataframe\">\n",
       "  <thead>\n",
       "    <tr style=\"text-align: right;\">\n",
       "      <th></th>\n",
       "      <th>index</th>\n",
       "      <th>회원번호</th>\n",
       "      <th>regist_ymd</th>\n",
       "      <th>사용량_당일</th>\n",
       "      <th>사용량_30일후</th>\n",
       "      <th>사용량_60일후</th>\n",
       "      <th>사용량_90일후</th>\n",
       "    </tr>\n",
       "  </thead>\n",
       "  <tbody>\n",
       "    <tr>\n",
       "      <th>0</th>\n",
       "      <td>0</td>\n",
       "      <td>815213</td>\n",
       "      <td>2024-07-25</td>\n",
       "      <td>1.0</td>\n",
       "      <td>0.0</td>\n",
       "      <td>0.0</td>\n",
       "      <td>0.0</td>\n",
       "    </tr>\n",
       "    <tr>\n",
       "      <th>1</th>\n",
       "      <td>1</td>\n",
       "      <td>818044</td>\n",
       "      <td>2024-07-02</td>\n",
       "      <td>1.0</td>\n",
       "      <td>0.0</td>\n",
       "      <td>0.0</td>\n",
       "      <td>0.0</td>\n",
       "    </tr>\n",
       "    <tr>\n",
       "      <th>2</th>\n",
       "      <td>2</td>\n",
       "      <td>1069364</td>\n",
       "      <td>2024-07-15</td>\n",
       "      <td>2.0</td>\n",
       "      <td>0.0</td>\n",
       "      <td>0.0</td>\n",
       "      <td>0.0</td>\n",
       "    </tr>\n",
       "    <tr>\n",
       "      <th>3</th>\n",
       "      <td>3</td>\n",
       "      <td>2528372</td>\n",
       "      <td>2024-07-11</td>\n",
       "      <td>1.0</td>\n",
       "      <td>0.0</td>\n",
       "      <td>0.0</td>\n",
       "      <td>0.0</td>\n",
       "    </tr>\n",
       "    <tr>\n",
       "      <th>4</th>\n",
       "      <td>4</td>\n",
       "      <td>2529763</td>\n",
       "      <td>2024-07-05</td>\n",
       "      <td>1.0</td>\n",
       "      <td>0.0</td>\n",
       "      <td>0.0</td>\n",
       "      <td>0.0</td>\n",
       "    </tr>\n",
       "    <tr>\n",
       "      <th>...</th>\n",
       "      <td>...</td>\n",
       "      <td>...</td>\n",
       "      <td>...</td>\n",
       "      <td>...</td>\n",
       "      <td>...</td>\n",
       "      <td>...</td>\n",
       "      <td>...</td>\n",
       "    </tr>\n",
       "    <tr>\n",
       "      <th>3861</th>\n",
       "      <td>3861</td>\n",
       "      <td>3383715</td>\n",
       "      <td>2024-07-31</td>\n",
       "      <td>1.0</td>\n",
       "      <td>0.0</td>\n",
       "      <td>0.0</td>\n",
       "      <td>0.0</td>\n",
       "    </tr>\n",
       "    <tr>\n",
       "      <th>3862</th>\n",
       "      <td>3862</td>\n",
       "      <td>3383727</td>\n",
       "      <td>2024-07-31</td>\n",
       "      <td>1.0</td>\n",
       "      <td>0.0</td>\n",
       "      <td>0.0</td>\n",
       "      <td>0.0</td>\n",
       "    </tr>\n",
       "    <tr>\n",
       "      <th>3863</th>\n",
       "      <td>3863</td>\n",
       "      <td>3383737</td>\n",
       "      <td>2024-07-31</td>\n",
       "      <td>1.0</td>\n",
       "      <td>NaN</td>\n",
       "      <td>NaN</td>\n",
       "      <td>NaN</td>\n",
       "    </tr>\n",
       "    <tr>\n",
       "      <th>3864</th>\n",
       "      <td>3864</td>\n",
       "      <td>3383741</td>\n",
       "      <td>2024-07-31</td>\n",
       "      <td>1.0</td>\n",
       "      <td>0.0</td>\n",
       "      <td>0.0</td>\n",
       "      <td>0.0</td>\n",
       "    </tr>\n",
       "    <tr>\n",
       "      <th>3865</th>\n",
       "      <td>3865</td>\n",
       "      <td>3383748</td>\n",
       "      <td>2024-07-31</td>\n",
       "      <td>1.0</td>\n",
       "      <td>0.0</td>\n",
       "      <td>0.0</td>\n",
       "      <td>0.0</td>\n",
       "    </tr>\n",
       "  </tbody>\n",
       "</table>\n",
       "<p>3866 rows × 7 columns</p>\n",
       "</div>"
      ],
      "text/plain": [
       "      index     회원번호 regist_ymd  사용량_당일  사용량_30일후  사용량_60일후  사용량_90일후\n",
       "0         0   815213 2024-07-25     1.0       0.0       0.0       0.0\n",
       "1         1   818044 2024-07-02     1.0       0.0       0.0       0.0\n",
       "2         2  1069364 2024-07-15     2.0       0.0       0.0       0.0\n",
       "3         3  2528372 2024-07-11     1.0       0.0       0.0       0.0\n",
       "4         4  2529763 2024-07-05     1.0       0.0       0.0       0.0\n",
       "...     ...      ...        ...     ...       ...       ...       ...\n",
       "3861   3861  3383715 2024-07-31     1.0       0.0       0.0       0.0\n",
       "3862   3862  3383727 2024-07-31     1.0       0.0       0.0       0.0\n",
       "3863   3863  3383737 2024-07-31     1.0       NaN       NaN       NaN\n",
       "3864   3864  3383741 2024-07-31     1.0       0.0       0.0       0.0\n",
       "3865   3865  3383748 2024-07-31     1.0       0.0       0.0       0.0\n",
       "\n",
       "[3866 rows x 7 columns]"
      ]
     },
     "execution_count": 5,
     "metadata": {},
     "output_type": "execute_result"
    }
   ],
   "source": [
    "import pandas as pd\n",
    "\n",
    "# 예제 데이터\n",
    "df = pd.DataFrame(ncd_cort7)\n",
    "\n",
    "# 날짜 형식 변환\n",
    "df['calc_ymd'] = pd.to_datetime(df['calc_ymd'], format='%Y.%m.%d')\n",
    "df['regist_ymd'] = pd.to_datetime(df['regist_ymd'], format='%Y.%m.%d')\n",
    "\n",
    "# 회원번호별 및 regist_ymd별로 필요한 사용량 추출\n",
    "result = df.groupby(['회원번호', 'regist_ymd'], as_index=False).apply(\n",
    "    lambda x: pd.Series({\n",
    "        '사용량_당일': x.loc[x['calc_ymd'] == x['regist_ymd'].iloc[0], '사용량'].values[0] if not x.loc[x['calc_ymd'] == x['regist_ymd'].iloc[0]].empty else None,\n",
    "        '사용량_30일후': x.loc[x['calc_ymd'] == x['regist_ymd'].iloc[0] + pd.Timedelta(days=30), '사용량'].values[0] if not x.loc[x['calc_ymd'] == x['regist_ymd'].iloc[0] + pd.Timedelta(days=30)].empty else None,\n",
    "        '사용량_60일후': x.loc[x['calc_ymd'] == x['regist_ymd'].iloc[0] + pd.Timedelta(days=60), '사용량'].values[0] if not x.loc[x['calc_ymd'] == x['regist_ymd'].iloc[0] + pd.Timedelta(days=60)].empty else None,\n",
    "        '사용량_90일후': x.loc[x['calc_ymd'] == x['regist_ymd'].iloc[0] + pd.Timedelta(days=90), '사용량'].values[0] if not x.loc[x['calc_ymd'] == x['regist_ymd'].iloc[0] + pd.Timedelta(days=90)].empty else None\n",
    "    }),\n",
    ").reset_index()\n",
    "\n",
    "result\n"
   ]
  },
  {
   "cell_type": "code",
   "execution_count": 11,
   "id": "fbf38b7c-c062-4ada-a6f1-4304b560ab39",
   "metadata": {},
   "outputs": [],
   "source": [
    "result.to_excel('/Users/user/Documents/진행중 업무/cor_t_user_transitions.xlsx', index=False)"
   ]
  },
  {
   "cell_type": "code",
   "execution_count": null,
   "id": "ce8d99b8-ac11-450b-b06c-1805a32fd6ef",
   "metadata": {},
   "outputs": [],
   "source": []
  },
  {
   "cell_type": "code",
   "execution_count": 3,
   "id": "d5b5be36-e24f-4b62-ab22-3d593281ee90",
   "metadata": {},
   "outputs": [],
   "source": [
    "ncd_corlt = pd.read_excel('/Users/user/Documents/NCD 데이터/ncd_corlt2411.xlsx')\n",
    "ncd_corstd = pd.read_excel('/Users/user/Documents/NCD 데이터/ncd_corstd2411.xlsx')\n",
    "ncd_corstdp = pd.read_excel('/Users/user/Documents/NCD 데이터/ncd_corstdp2411.xlsx')\n",
    "ncd_cort = pd.read_excel('/Users/user/Documents/NCD 데이터/ncd_cort2411.xlsx')\n",
    "ncd_drv = pd.read_excel('/Users/user/Documents/NCD 데이터/ncd_drv2411.xlsx')\n",
    "ncd_app = pd.read_excel('/Users/user/Documents/NCD 데이터/ncd_app2411.xlsx')\n",
    "ncd_att = pd.read_excel('/Users/user/Documents/NCD 데이터/ncd_att2411.xlsx')\n",
    "ncd_fin = pd.read_excel('/Users/user/Documents/NCD 데이터/ncd_fin2411.xlsx')\n",
    "ncd_pay = pd.read_excel('/Users/user/Documents/NCD 데이터/ncd_pay2411.xlsx')\n",
    "ncd_cnt = pd.read_excel('/Users/user/Documents/NCD 데이터/ncd_cnt2411.xlsx')"
   ]
  },
  {
   "cell_type": "code",
   "execution_count": 30,
   "id": "4a9dbe82-213d-4fe5-a6d3-0624c7e166d7",
   "metadata": {},
   "outputs": [],
   "source": [
    "ncd = pd.concat([ncd_corlt, ncd_corstd, ncd_corstdp, ncd_cort, ncd_drv, ncd_app, ncd_att, ncd_fin, ncd_pay, ncd_cnt])\n",
    "ncd_20241105 = ncd[ncd['미터링일시']==20241105]\n",
    "ncd_t = ncd_20241105[ncd_20241105['요금']==0]\n",
    "ncd_t_user0 = ncd_t[ncd_t['사용량']==0]"
   ]
  },
  {
   "cell_type": "code",
   "execution_count": 34,
   "id": "4ea0f970-5469-462f-b776-dd84aca064c1",
   "metadata": {},
   "outputs": [],
   "source": [
    "ncd_t_user0.to_csv('/Users/user/Documents/진행중 업무/trial_no_user.csv', index=False)"
   ]
  },
  {
   "cell_type": "code",
   "execution_count": null,
   "id": "5f86dc43-a6be-4eaf-bd60-29f6cd92db9c",
   "metadata": {},
   "outputs": [],
   "source": []
  }
 ],
 "metadata": {
  "kernelspec": {
   "display_name": "Python 3 (ipykernel)",
   "language": "python",
   "name": "python3"
  },
  "language_info": {
   "codemirror_mode": {
    "name": "ipython",
    "version": 3
   },
   "file_extension": ".py",
   "mimetype": "text/x-python",
   "name": "python",
   "nbconvert_exporter": "python",
   "pygments_lexer": "ipython3",
   "version": "3.12.4"
  }
 },
 "nbformat": 4,
 "nbformat_minor": 5
}
