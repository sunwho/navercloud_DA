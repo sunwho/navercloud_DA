{
 "cells": [
  {
   "cell_type": "code",
   "execution_count": 1,
   "id": "e944f925-fcb4-47a0-ad62-f13f49a282bb",
   "metadata": {},
   "outputs": [],
   "source": [
    "import pandas as pd\n",
    "import numpy as np\n",
    "import matplotlib.pyplot as plt\n",
    "import re"
   ]
  },
  {
   "cell_type": "code",
   "execution_count": 350,
   "id": "6f741fae-bc84-433c-8bb7-40aa2ef2a6d9",
   "metadata": {},
   "outputs": [],
   "source": [
    "ncd_app1_1 = pd.read_excel('/Users/user/Documents/NCD 데이터/ncd_app1_2406.xlsx')\n",
    "ncd_app1_2 = pd.read_excel('/Users/user/Documents/NCD 데이터/ncd_app1_2407.xlsx')\n",
    "ncd_app1_3 = pd.read_excel('/Users/user/Documents/NCD 데이터/ncd_app1_2408.xlsx')\n",
    "ncd_app1_4 = pd.read_excel('/Users/user/Documents/NCD 데이터/ncd_app1_2409.xlsx')\n",
    "ncd_app2_1 = pd.read_excel('/Users/user/Documents/NCD 데이터/ncd_app2_2406.xlsx')\n",
    "ncd_app2_2 = pd.read_excel('/Users/user/Documents/NCD 데이터/ncd_app2_2407.xlsx')\n",
    "ncd_app2_3 = pd.read_excel('/Users/user/Documents/NCD 데이터/ncd_app2_2408.xlsx')\n",
    "ncd_app2_4 = pd.read_excel('/Users/user/Documents/NCD 데이터/ncd_app2_2409.xlsx')\n",
    "ncd_app3_1 = pd.read_excel('/Users/user/Documents/NCD 데이터/ncd_app3_2406.xlsx')\n",
    "ncd_app3_2 = pd.read_excel('/Users/user/Documents/NCD 데이터/ncd_app3_2407.xlsx')\n",
    "ncd_app3_3 = pd.read_excel('/Users/user/Documents/NCD 데이터/ncd_app3_2408.xlsx')\n",
    "ncd_app3_4 = pd.read_excel('/Users/user/Documents/NCD 데이터/ncd_app3_2409.xlsx')\n",
    "ncd_fin1_1 = pd.read_excel('/Users/user/Documents/NCD 데이터/ncd_fin1_2406.xlsx')\n",
    "ncd_fin1_2 = pd.read_excel('/Users/user/Documents/NCD 데이터/ncd_fin1_2407.xlsx')\n",
    "ncd_fin1_3 = pd.read_excel('/Users/user/Documents/NCD 데이터/ncd_fin1_2408.xlsx')\n",
    "ncd_fin1_4 = pd.read_excel('/Users/user/Documents/NCD 데이터/ncd_fin1_2409.xlsx')"
   ]
  },
  {
   "cell_type": "code",
   "execution_count": 351,
   "id": "6f8cd031-a51a-49f0-ba02-d388e528e353",
   "metadata": {},
   "outputs": [],
   "source": [
    "ncd2405 = pd.read_excel('/Users/user/Documents/진행중 업무/ncd_before_migration.xlsx')\n",
    "ncd2405_place = ncd2405[ncd2405['청구유형코드명'] == 'WORKPLACE (Deprecated)']\n",
    "boa2406 = pd.read_excel('/Users/user/Documents/BOA 데이터/boa2406.xlsx')\n",
    "boa2406_place = boa2406[boa2406['구분3'] == 'WORKPLACE']\n",
    "boa2407 = pd.read_excel('/Users/user/Documents/BOA 데이터/boa2407.xlsx')\n",
    "boa2407_place = boa2407[boa2407['구분3'] == 'WORKPLACE']\n",
    "boa2408 = pd.read_excel('/Users/user/Documents/BOA 데이터/boa2408.xlsx')\n",
    "boa2408 = boa2408.drop(0)\n",
    "boa2408_place = boa2408[boa2408['구분3'] == 'WORKPLACE']\n",
    "boa2409 = pd.read_excel('/Users/user/Documents/BOA 데이터/boa2409.xlsx')\n",
    "boa2409_place = boa2409[boa2409['구분3'] == 'WORKPLACE']"
   ]
  },
  {
   "cell_type": "code",
   "execution_count": 352,
   "id": "4e59a165-bb32-460d-8933-b839c0e00fab",
   "metadata": {},
   "outputs": [
    {
     "data": {
      "text/html": [
       "<div>\n",
       "<style scoped>\n",
       "    .dataframe tbody tr th:only-of-type {\n",
       "        vertical-align: middle;\n",
       "    }\n",
       "\n",
       "    .dataframe tbody tr th {\n",
       "        vertical-align: top;\n",
       "    }\n",
       "\n",
       "    .dataframe thead th {\n",
       "        text-align: right;\n",
       "    }\n",
       "</style>\n",
       "<table border=\"1\" class=\"dataframe\">\n",
       "  <thead>\n",
       "    <tr style=\"text-align: right;\">\n",
       "      <th></th>\n",
       "      <th>회원번호</th>\n",
       "      <th>매출금액(당월)</th>\n",
       "    </tr>\n",
       "  </thead>\n",
       "  <tbody>\n",
       "    <tr>\n",
       "      <th>0</th>\n",
       "      <td>1431</td>\n",
       "      <td>156599.876146</td>\n",
       "    </tr>\n",
       "    <tr>\n",
       "      <th>1</th>\n",
       "      <td>1449</td>\n",
       "      <td>78029.773857</td>\n",
       "    </tr>\n",
       "    <tr>\n",
       "      <th>2</th>\n",
       "      <td>1938</td>\n",
       "      <td>123020.000000</td>\n",
       "    </tr>\n",
       "    <tr>\n",
       "      <th>3</th>\n",
       "      <td>772026</td>\n",
       "      <td>294523.786784</td>\n",
       "    </tr>\n",
       "    <tr>\n",
       "      <th>4</th>\n",
       "      <td>773714</td>\n",
       "      <td>81159.231360</td>\n",
       "    </tr>\n",
       "    <tr>\n",
       "      <th>...</th>\n",
       "      <td>...</td>\n",
       "      <td>...</td>\n",
       "    </tr>\n",
       "    <tr>\n",
       "      <th>2047</th>\n",
       "      <td>3335241</td>\n",
       "      <td>0.000000</td>\n",
       "    </tr>\n",
       "    <tr>\n",
       "      <th>2048</th>\n",
       "      <td>3337039</td>\n",
       "      <td>27000.000000</td>\n",
       "    </tr>\n",
       "    <tr>\n",
       "      <th>2049</th>\n",
       "      <td>3342764</td>\n",
       "      <td>1080.000000</td>\n",
       "    </tr>\n",
       "    <tr>\n",
       "      <th>2050</th>\n",
       "      <td>3345218</td>\n",
       "      <td>14565.789474</td>\n",
       "    </tr>\n",
       "    <tr>\n",
       "      <th>2051</th>\n",
       "      <td>3346860</td>\n",
       "      <td>5997.728133</td>\n",
       "    </tr>\n",
       "  </tbody>\n",
       "</table>\n",
       "<p>2052 rows × 2 columns</p>\n",
       "</div>"
      ],
      "text/plain": [
       "         회원번호       매출금액(당월)\n",
       "0        1431  156599.876146\n",
       "1        1449   78029.773857\n",
       "2        1938  123020.000000\n",
       "3      772026  294523.786784\n",
       "4      773714   81159.231360\n",
       "...       ...            ...\n",
       "2047  3335241       0.000000\n",
       "2048  3337039   27000.000000\n",
       "2049  3342764    1080.000000\n",
       "2050  3345218   14565.789474\n",
       "2051  3346860    5997.728133\n",
       "\n",
       "[2052 rows x 2 columns]"
      ]
     },
     "execution_count": 352,
     "metadata": {},
     "output_type": "execute_result"
    }
   ],
   "source": [
    "boa2406_place = boa2406_place.groupby(['회원번호'], as_index=False)['매출금액(당월)'].sum()\n",
    "boa2407_place = boa2407_place.groupby(['회원번호'], as_index=False)['매출금액(당월)'].sum()\n",
    "boa2408_place = boa2408_place.groupby(['회원번호'], as_index=False)['매출금액(당월)'].sum()\n",
    "boa2409_place = boa2409_place.groupby(['회원번호'], as_index=False)['매출금액(당월)'].sum()\n",
    "boa2406_place"
   ]
  },
  {
   "cell_type": "code",
   "execution_count": 353,
   "id": "b1cf578e-066d-4005-85c0-75214fd7ee0a",
   "metadata": {},
   "outputs": [],
   "source": [
    "def sales_merge (ncd, boa) :\n",
    "    ncd = ncd.copy()\n",
    "    ncd['회원번호'] = ncd['회원번호'].astype(int)\n",
    "    boa = boa.copy()\n",
    "    boa['회원번호'] = boa['회원번호'].astype(int)\n",
    "    ncd = ncd.merge(boa[['회원번호','매출금액(당월)']], on = '회원번호', how = 'left')\n",
    "    ncd.rename(columns={'매출금액(당월)': '도메인별경영지원총매출'}, inplace=True)\n",
    "    return ncd\n",
    "\n",
    "ncd_app1_1 = sales_merge(ncd_app1_1, boa2406_place)\n",
    "ncd_app2_1 = sales_merge(ncd_app2_1, boa2406_place)\n",
    "ncd_app3_1 = sales_merge(ncd_app3_1, boa2406_place)\n",
    "ncd_fin1_1 = sales_merge(ncd_fin1_1, boa2406_place)\n",
    "ncd_app1_2 = sales_merge(ncd_app1_2, boa2407_place)\n",
    "ncd_app2_2 = sales_merge(ncd_app2_2, boa2407_place)\n",
    "ncd_app3_2 = sales_merge(ncd_app3_2, boa2407_place)\n",
    "ncd_fin1_2 = sales_merge(ncd_fin1_2, boa2407_place)\n",
    "ncd_app1_3 = sales_merge(ncd_app1_3, boa2408_place)\n",
    "ncd_app2_3 = sales_merge(ncd_app2_3, boa2408_place)\n",
    "ncd_app3_3 = sales_merge(ncd_app3_3, boa2408_place)\n",
    "ncd_fin1_3 = sales_merge(ncd_fin1_3, boa2408_place)\n",
    "ncd_app1_4 = sales_merge(ncd_app1_4, boa2409_place)\n",
    "ncd_app2_4 = sales_merge(ncd_app2_4, boa2409_place)\n",
    "ncd_app3_4 = sales_merge(ncd_app3_4, boa2409_place)\n",
    "ncd_fin1_4 = sales_merge(ncd_fin1_4, boa2409_place)"
   ]
  },
  {
   "cell_type": "code",
   "execution_count": 355,
   "id": "62e0562c-52c2-44ac-8ffc-c7541b180aaf",
   "metadata": {},
   "outputs": [],
   "source": [
    "ncd_app1 = pd.concat([ncd_app1_1, ncd_app1_2, ncd_app1_3, ncd_app1_4])\n",
    "ncd_app2 = pd.concat([ncd_app2_1, ncd_app2_2, ncd_app2_3, ncd_app2_4])\n",
    "ncd_app3 = pd.concat([ncd_app3_1, ncd_app3_2, ncd_app3_3, ncd_app3_4])\n",
    "ncd_fin1 = pd.concat([ncd_fin1_1, ncd_fin1_2, ncd_fin1_3, ncd_fin1_4])\n",
    "ncd_option = pd.concat([ncd_app1, ncd_app2, ncd_app3, ncd_fin1])"
   ]
  },
  {
   "cell_type": "code",
   "execution_count": 356,
   "id": "23f110eb-3903-4c60-8845-9bc3b085ee84",
   "metadata": {},
   "outputs": [],
   "source": [
    "def regist_date (df) :\n",
    "    min_dates = df.groupby(['회원번호', '청구유형상세코드명'])['미터링일시'].min().reset_index()\n",
    "    min_dates = min_dates.rename(columns={'미터링일시': 'regist_ymd'})\n",
    "    df = df.merge(min_dates, on=['회원번호', '청구유형상세코드명'], how='left')\n",
    "    return df"
   ]
  },
  {
   "cell_type": "code",
   "execution_count": 357,
   "id": "55e53b88-8a05-46bf-ae6a-80c32d7e8290",
   "metadata": {},
   "outputs": [],
   "source": [
    "ncd_option = regist_date(ncd_option)"
   ]
  },
  {
   "cell_type": "code",
   "execution_count": 358,
   "id": "1fe5cd6a-961c-4bd0-ae6c-2994bafff8f0",
   "metadata": {},
   "outputs": [],
   "source": [
    "ncd_regist64 = ncd_option[ncd_option['regist_ymd'] == 20240604]"
   ]
  },
  {
   "cell_type": "code",
   "execution_count": 359,
   "id": "4fd4ba3f-0e17-4abc-a744-68613ddaf41a",
   "metadata": {},
   "outputs": [],
   "source": [
    "ncd2405_place = ncd2405[ncd2405['청구유형코드명'] == 'WORKPLACE (Deprecated)']"
   ]
  },
  {
   "cell_type": "code",
   "execution_count": 360,
   "id": "dc95ccf3-0d31-4c1d-b4bc-ad709c9ad911",
   "metadata": {},
   "outputs": [
    {
     "name": "stderr",
     "output_type": "stream",
     "text": [
      "/var/folders/yj/y3b7nzyn7zv0l9bkqtj_37g40000gn/T/ipykernel_28985/3878537248.py:1: SettingWithCopyWarning: \n",
      "A value is trying to be set on a copy of a slice from a DataFrame.\n",
      "Try using .loc[row_indexer,col_indexer] = value instead\n",
      "\n",
      "See the caveats in the documentation: https://pandas.pydata.org/pandas-docs/stable/user_guide/indexing.html#returning-a-view-versus-a-copy\n",
      "  ncd_regist64['regist_ymd'] = ncd_regist64['regist_ymd'].astype(str)\n"
     ]
    }
   ],
   "source": [
    "ncd_regist64['regist_ymd'] = ncd_regist64['regist_ymd'].astype(str)\n",
    "ncd_regist64.loc[ncd_regist64['회원번호'].isin(ncd2405_place['회원번호']), 'regist_ymd'] = 'before 20240604'"
   ]
  },
  {
   "cell_type": "code",
   "execution_count": 361,
   "id": "fa529456-3657-4202-85ab-6153b08c98d0",
   "metadata": {},
   "outputs": [],
   "source": [
    "ncd_regist_no64 = ncd_option[ncd_option['regist_ymd'] != 20240604]\n",
    "ncd_option = pd.concat([ncd_regist64, ncd_regist_no64])"
   ]
  },
  {
   "cell_type": "code",
   "execution_count": 362,
   "id": "e322b094-5953-40c2-b5cf-fc9e14889d29",
   "metadata": {},
   "outputs": [],
   "source": [
    "ncd_option6 = ncd_option[ncd_option['미터링일시'] == 20240630]\n",
    "ncd_option7 = ncd_option[ncd_option['미터링일시'] == 20240731]\n",
    "ncd_option8 = ncd_option[ncd_option['미터링일시'] == 20240831]\n",
    "ncd_option9 = ncd_option[ncd_option['미터링일시'] == 20240930]"
   ]
  },
  {
   "cell_type": "code",
   "execution_count": 384,
   "id": "d76caeef-d606-4435-a21f-44f4600f1e88",
   "metadata": {},
   "outputs": [],
   "source": [
    "ncd_option = ncd_option.sort_values(by = ['회원번호','청구유형상세코드명','미터링일시'])\n",
    "ncd_option_drop = ncd_option.drop_duplicates(subset = ['회원번호','청구유형상세코드명'], keep = 'first')\n",
    "ncd_option6_new = ncd_option_drop[ncd_option_drop['regist_ymd'].astype(str).str[0:6] == '202406']\n",
    "ncd_option7_new = ncd_option_drop[ncd_option_drop['regist_ymd'].astype(str).str[0:6] == '202407']\n",
    "ncd_option8_new = ncd_option_drop[ncd_option_drop['regist_ymd'].astype(str).str[0:6] == '202408']\n",
    "ncd_option9_new = ncd_option_drop[ncd_option_drop['regist_ymd'].astype(str).str[0:6] == '202409']"
   ]
  },
  {
   "cell_type": "code",
   "execution_count": 348,
   "id": "d38905f3-6c86-46f5-984e-b55d1a0b6660",
   "metadata": {},
   "outputs": [],
   "source": [
    "ncd_option6.to_excel('/Users/user/Documents/업무문서/ncd_option6.xlsx',index=False)\n",
    "ncd_option7.to_excel('/Users/user/Documents/업무문서/ncd_option7.xlsx',index=False)\n",
    "ncd_option8.to_excel('/Users/user/Documents/업무문서/ncd_option8.xlsx',index=False)\n",
    "ncd_option9.to_excel('/Users/user/Documents/업무문서/ncd_option9.xlsx',index=False)"
   ]
  },
  {
   "cell_type": "code",
   "execution_count": 392,
   "id": "d08014e5-97f5-4488-8172-d89beb7bb9a9",
   "metadata": {},
   "outputs": [],
   "source": [
    "ncd_option6_new.to_excel('/Users/user/Documents/업무문서/ncd_option6_new.xlsx',index=False)\n",
    "ncd_option7_new.to_excel('/Users/user/Documents/업무문서/ncd_option7_new.xlsx',index=False)\n",
    "ncd_option8_new.to_excel('/Users/user/Documents/업무문서/ncd_option8_new.xlsx',index=False)\n",
    "ncd_option9_new.to_excel('/Users/user/Documents/업무문서/ncd_option9_new.xlsx',index=False)"
   ]
  },
  {
   "cell_type": "code",
   "execution_count": 424,
   "id": "d1a9fc0c-ea2e-499c-891e-6d62e53bced9",
   "metadata": {},
   "outputs": [],
   "source": [
    "summary_list = []\n",
    "def summary (df) :\n",
    "    j = ['웍스 결재 서약서','웍스 결재 자원 예약','웍스 결재 전자세금계산서','웍스 재무 법인카드 연동']\n",
    "    for k in range(0, len(j)) :\n",
    "        i = []\n",
    "        l = df[df['청구유형상세코드명']==j[k]]\n",
    "        i.append(len(l))\n",
    "        i.append(l['사용량'].sum())\n",
    "        i.append(l['요금'].sum())\n",
    "        i.append(l['도메인별경영지원총매출'].sum())\n",
    "\n",
    "        summary_list.append(i)\n",
    "\n",
    "summary(ncd_option6)\n",
    "summary(ncd_option7)\n",
    "summary(ncd_option8)\n",
    "summary(ncd_option9)\n",
    "summary(ncd_option6_new)\n",
    "summary(ncd_option7_new)\n",
    "summary(ncd_option8_new)\n",
    "summary(ncd_option9_new)\n"
   ]
  },
  {
   "cell_type": "code",
   "execution_count": 422,
   "id": "e6596a7d-96cd-431d-b438-ee6e45720a8e",
   "metadata": {},
   "outputs": [],
   "source": [
    "ncd_option6 = ncd_option6[ncd_option6['회원그룹명']!='내부회원']\n",
    "ncd_option7 = ncd_option7[ncd_option7['회원그룹명']!='내부회원']\n",
    "ncd_option8 = ncd_option8[ncd_option8['회원그룹명']!='내부회원']\n",
    "ncd_option9 = ncd_option9[ncd_option9['회원그룹명']!='내부회원']\n",
    "ncd_option6_new = ncd_option6_new[ncd_option6_new['회원그룹명']!='내부회원']\n",
    "ncd_option7_new = ncd_option7_new[ncd_option7_new['회원그룹명']!='내부회원']\n",
    "ncd_option8_new = ncd_option8_new[ncd_option8_new['회원그룹명']!='내부회원']\n",
    "ncd_option9_new = ncd_option9_new[ncd_option9_new['회원그룹명']!='내부회원']"
   ]
  },
  {
   "cell_type": "code",
   "execution_count": 426,
   "id": "d1a98ab3-10c9-455d-87a1-74638c415b51",
   "metadata": {},
   "outputs": [],
   "source": [
    "summary_list = pd.DataFrame(summary_list)"
   ]
  },
  {
   "cell_type": "code",
   "execution_count": 428,
   "id": "e4c607c0-e527-4df2-b1bb-3bcbf4d3161b",
   "metadata": {},
   "outputs": [],
   "source": [
    "summary_list.to_excel('/Users/user/Documents/업무문서/ncd_option_summary.xlsx',index=False)"
   ]
  },
  {
   "cell_type": "code",
   "execution_count": null,
   "id": "686e4418-ed50-47cd-ab88-458fcb8b6bd3",
   "metadata": {},
   "outputs": [],
   "source": []
  }
 ],
 "metadata": {
  "kernelspec": {
   "display_name": "Python 3 (ipykernel)",
   "language": "python",
   "name": "python3"
  },
  "language_info": {
   "codemirror_mode": {
    "name": "ipython",
    "version": 3
   },
   "file_extension": ".py",
   "mimetype": "text/x-python",
   "name": "python",
   "nbconvert_exporter": "python",
   "pygments_lexer": "ipython3",
   "version": "3.12.4"
  }
 },
 "nbformat": 4,
 "nbformat_minor": 5
}
