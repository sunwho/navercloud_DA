{
 "cells": [
  {
   "cell_type": "code",
   "execution_count": 1,
   "id": "f7a5afd0-8406-4978-9b9f-8fba3c216890",
   "metadata": {},
   "outputs": [],
   "source": [
    "import pandas as pd\n",
    "import numpy as np\n",
    "import matplotlib.pyplot as plt\n",
    "import re\n",
    "plt.rcParams['font.family'] = 'AppleGothic'"
   ]
  },
  {
   "cell_type": "code",
   "execution_count": 2,
   "id": "663ba282-419b-4b92-9c96-0ba7b9125623",
   "metadata": {},
   "outputs": [],
   "source": [
    "ncd = pd.read_csv('/Users/user/Documents/진행중 업무/ncd_metering.csv')"
   ]
  },
  {
   "cell_type": "code",
   "execution_count": 3,
   "id": "8ea53ffb-8311-4d71-8db5-18a934493e00",
   "metadata": {},
   "outputs": [],
   "source": [
    "def preprocess2 (df) :\n",
    "    domain_min_dates = df.groupby(['member_id'])['calc_ymd'].min().reset_index()\n",
    "    domain_min_dates = domain_min_dates.rename(columns={'calc_ymd': 'domainRegistdate'})\n",
    "    df = df.merge(domain_min_dates, on=['member_id'], how='left')\n",
    "\n",
    "    df['paid_여부'] = np.where(df['요금']>0, 'Y','N')\n",
    "    return df\n",
    "\n",
    "ncd = preprocess2(ncd)"
   ]
  },
  {
   "cell_type": "code",
   "execution_count": 4,
   "id": "5f827b3e-6d6e-4936-8301-9dfafb61d74a",
   "metadata": {},
   "outputs": [
    {
     "name": "stderr",
     "output_type": "stream",
     "text": [
      "/var/folders/yj/y3b7nzyn7zv0l9bkqtj_37g40000gn/T/ipykernel_1418/474318808.py:16: DeprecationWarning: DataFrameGroupBy.apply operated on the grouping columns. This behavior is deprecated, and in a future version of pandas the grouping columns will be excluded from the operation. Either pass `include_groups=False` to exclude the groupings or explicitly select the grouping columns after groupby to silence this warning.\n",
      "  ncd = ncd.groupby(['member_id', 'plan_prefix'], group_keys=False).apply(preprocess3)\n"
     ]
    }
   ],
   "source": [
    "ncd['plan_prefix'] = ncd['plan'].str[:3]\n",
    "\n",
    "def preprocess3 (df):\n",
    "    conversion_row = df[df['paid_여부'] == 'Y'].sort_values('calc_ymd').head(1)\n",
    "    \n",
    "    if not conversion_row.empty:\n",
    "        conversion_date = conversion_row.iloc[0]['calc_ymd']\n",
    "        df['전환여부'] = 'Y'\n",
    "        df['전환일'] = conversion_date\n",
    "    else:\n",
    "        df['전환여부'] = 'N'\n",
    "        df['전환일'] = None\n",
    "    \n",
    "    return df\n",
    "\n",
    "ncd = ncd.groupby(['member_id', 'plan_prefix'], group_keys=False).apply(preprocess3)"
   ]
  },
  {
   "cell_type": "code",
   "execution_count": 5,
   "id": "18954830-d2aa-4f60-bd84-b067c3a80ccf",
   "metadata": {},
   "outputs": [],
   "source": [
    "ncd1 = ncd[~ncd['plan'].isin(['ATT_STD', 'FIN_STD', 'PAY_STD'])]\n",
    "ncd1 = ncd1.sort_values(by = ['member_id','calc_ymd','plan_prefix','paid_여부'])\n",
    "ncd1_reduced = ncd1[['member_id', 'calc_ymd', 'plan', 'plan_prefix', 'paid_여부']].drop_duplicates(subset=['member_id', 'calc_ymd', 'plan_prefix'], keep = 'last')\n",
    "paid_user_plans = ncd1_reduced[ncd1_reduced['paid_여부'] == 'Y'].groupby(['member_id', 'calc_ymd'])['plan'].apply(lambda x: ', '.join(x)).reset_index(name='도메인유료구독상품')\n",
    "ncd = pd.merge(ncd, paid_user_plans, on=['member_id', 'calc_ymd'], how='left')\n",
    "paid_user_counts = ncd1_reduced[ncd1_reduced['paid_여부'] == 'Y'].groupby(['member_id', 'calc_ymd']).size().reset_index(name='도메인유료구독상품개수')\n",
    "ncd = pd.merge(ncd, paid_user_counts, on=['member_id', 'calc_ymd'], how='left')\n",
    "ncd['도메인유료구독상품개수'] = ncd['도메인유료구독상품개수'].fillna(0)\n",
    "ncd = ncd.drop(['plan_prefix'], axis=1)"
   ]
  },
  {
   "cell_type": "code",
   "execution_count": 6,
   "id": "ab30dabe-0869-4815-8a60-e9bb12009a30",
   "metadata": {},
   "outputs": [],
   "source": [
    "ncd['plan_prefix'] = ncd['plan'].str[:3]\n",
    "ncd2 = ncd[~ncd['plan'].isin(['ATT_T', 'FIN_T', 'PAY_T', 'ATT_STD', 'FIN_STD', 'PAY_STD'])]\n",
    "ncd2 = ncd2.sort_values(by = ['member_id','calc_ymd','plan_prefix','paid_여부'])\n",
    "ncd2_reduced = ncd2[['member_id', 'calc_ymd', 'plan', 'plan_prefix', 'paid_여부']].drop_duplicates(subset=['member_id', 'calc_ymd', 'plan_prefix'], keep = 'last')\n",
    "user_plans = ncd2_reduced.groupby(['member_id', 'calc_ymd'])['plan'].apply(lambda x: ', '.join(x)).reset_index(name='도메인구독상품')\n",
    "ncd = pd.merge(ncd, user_plans, on=['member_id', 'calc_ymd'], how='left')\n",
    "user_counts = ncd2_reduced.groupby(['member_id', 'calc_ymd']).size().reset_index(name='도메인구독상품개수')\n",
    "ncd = pd.merge(ncd, user_counts, on=['member_id', 'calc_ymd'], how='left')\n",
    "ncd['도메인구독상품개수'] = ncd['도메인구독상품개수'].fillna(0)\n",
    "ncd = ncd.drop(['plan_prefix'], axis=1)"
   ]
  },
  {
   "cell_type": "code",
   "execution_count": 8,
   "id": "64fcd500-8904-42ae-8b73-babe0c4c1821",
   "metadata": {},
   "outputs": [],
   "source": [
    "ncd['plan_prefix'] = ncd['plan'].str[:3]\n",
    "ncd3 = ncd[ncd['plan'].isin(['APP_STD', 'ATT_STD', 'FIN_STD', 'PAY_STD'])]\n",
    "ncd3 = ncd3.sort_values(by = ['member_id','calc_ymd','plan_prefix','paid_여부'])\n",
    "ncd3_reduced = ncd3[['member_id', 'calc_ymd', 'plan', 'plan_prefix', 'paid_여부']].drop_duplicates(subset=['member_id', 'calc_ymd', 'plan_prefix'], keep = 'last')\n",
    "paid_user_plans_wp = ncd3_reduced[ncd3_reduced['paid_여부'] == 'Y'].groupby(['member_id', 'calc_ymd'])['plan'].apply(lambda x: ', '.join(x)).reset_index(name='도메인WORKPLACE유료구독상세상품')\n",
    "ncd = pd.merge(ncd, paid_user_plans_wp, on=['member_id', 'calc_ymd'], how='left')\n",
    "paid_user_counts_wp = ncd3_reduced[ncd3_reduced['paid_여부'] == 'Y'].groupby(['member_id', 'calc_ymd']).size().reset_index(name='도메인WORKPLACE유료구독상세상품개수')\n",
    "ncd = pd.merge(ncd, paid_user_counts_wp, on=['member_id', 'calc_ymd'], how='left')\n",
    "ncd = ncd.drop(['plan_prefix'], axis=1)"
   ]
  },
  {
   "cell_type": "code",
   "execution_count": 9,
   "id": "7d284fc0-d02e-4032-9752-06f7a523412f",
   "metadata": {},
   "outputs": [],
   "source": [
    "ncd['plan_prefix'] = ncd['plan'].str[:3]\n",
    "ncd4 = ncd[ncd['plan'].isin(['APP_T', 'ATT_T', 'FIN_T', 'PAY_T', 'APP_STD', 'ATT_STD', 'FIN_STD', 'PAY_STD'])]\n",
    "ncd4 = ncd4.sort_values(by = ['member_id','calc_ymd','plan_prefix','paid_여부'])\n",
    "ncd4_reduced = ncd4[['member_id', 'calc_ymd', 'plan', 'plan_prefix', 'paid_여부']].drop_duplicates(subset=['member_id', 'calc_ymd', 'plan_prefix'], keep = 'last')\n",
    "user_plans_wp = ncd4_reduced.groupby(['member_id', 'calc_ymd'])['plan'].apply(lambda x: ', '.join(x)).reset_index(name='도메인WORKPLACE구독상세상품')\n",
    "ncd = pd.merge(ncd, user_plans_wp, on=['member_id', 'calc_ymd'], how='left')\n",
    "user_counts_wp = ncd4_reduced.groupby(['member_id', 'calc_ymd']).size().reset_index(name='도메인WORKPLACE구독상세상품개수')\n",
    "ncd = pd.merge(ncd, user_counts_wp, on=['member_id', 'calc_ymd'], how='left')\n",
    "ncd = ncd.drop(['plan_prefix'], axis=1)"
   ]
  },
  {
   "cell_type": "code",
   "execution_count": 10,
   "id": "c970957c-2012-46da-8a6b-f02d5ff1c346",
   "metadata": {},
   "outputs": [],
   "source": [
    "def change_product_name1(product_list):\n",
    "    if pd.isna(product_list):\n",
    "        return np.nan\n",
    "    \n",
    "    products = product_list.split(', ')\n",
    "    updated_products = []\n",
    "    for product in products:\n",
    "        if product.startswith('COR'):\n",
    "            updated_products.append('웍스코어')\n",
    "        elif product.startswith('DRV'):\n",
    "            updated_products.append('드라이브')\n",
    "        elif product.startswith('APP'):\n",
    "            updated_products.append('경영지원')\n",
    "        elif product.startswith('CNT'):\n",
    "            updated_products.append('클로바노트')\n",
    "        else:\n",
    "            updated_products.append(product)\n",
    "    return ', '.join(updated_products)\n",
    "\n",
    "ncd['도메인유료구독상품_구분3'] = ncd['도메인유료구독상품'].apply(change_product_name1)\n",
    "ncd['도메인구독상품_구분3'] = ncd['도메인구독상품'].apply(change_product_name1)"
   ]
  },
  {
   "cell_type": "code",
   "execution_count": 11,
   "id": "05956136-9322-479e-9036-59d60bc6555e",
   "metadata": {},
   "outputs": [],
   "source": [
    "def change_product_name2(product_list):\n",
    "    if pd.isna(product_list):\n",
    "        return np.nan\n",
    "    \n",
    "    products = product_list.split(', ')\n",
    "    updated_products = []\n",
    "    for product in products:\n",
    "        if product.startswith('APP'):\n",
    "            updated_products.append('웍스 결재')\n",
    "        elif product.startswith('ATT'):\n",
    "            updated_products.append('웍스 근태')\n",
    "        elif product.startswith('FIN'):\n",
    "            updated_products.append('웍스 재무')\n",
    "        elif product.startswith('PAY'):\n",
    "            updated_products.append('웍스 급여')\n",
    "        else:\n",
    "            updated_products.append(product)\n",
    "    return ', '.join(updated_products)\n",
    "\n",
    "ncd['도메인WORKPLACE유료구독상세상품_구분3'] = ncd['도메인WORKPLACE유료구독상세상품'].apply(change_product_name2)\n",
    "ncd['도메인WORKPLACE구독상세상품_구분3'] = ncd['도메인WORKPLACE구독상세상품'].apply(change_product_name2)"
   ]
  },
  {
   "cell_type": "code",
   "execution_count": 12,
   "id": "58114166-d7f6-4a02-ac84-a46d4f18cae0",
   "metadata": {},
   "outputs": [],
   "source": [
    "ncd['이전상품'] = ''\n",
    "ncd['구분3'] = '웍스코어'\n",
    "ncd.loc[ncd['plan'].str[0:3] == 'DRV','구분3'] = '드라이브'\n",
    "ncd.loc[ncd['plan'].str[0:3] == 'CNT','구분3'] = '클로바노트'\n",
    "ncd.loc[ncd['plan'].str[0:3].isin(['APP','ATT','FIN','PAY']),'구분3'] = '경영지원'\n",
    "ncd = ncd.sort_values(by = ['member_id','calc_ymd','구분3','paid_여부'])"
   ]
  },
  {
   "cell_type": "code",
   "execution_count": 13,
   "id": "c5b73c56-8ab7-4a8d-9957-32b9c5491ee2",
   "metadata": {},
   "outputs": [],
   "source": [
    "ncd = ncd.sort_values(by = ['회원번호','구분3','calc_ymd'])\n",
    "ncd_drop = ncd.drop_duplicates(subset = ['회원번호','구분3'], keep = 'first').copy()\n",
    "ncd_drop['plan_regist'] = ncd_drop['regist_ymd']\n",
    "ncd_drop = ncd_drop[['회원번호','구분3','plan_regist']]\n",
    "ncd = pd.merge(ncd, ncd_drop, how = 'left',on= ['회원번호','구분3'])"
   ]
  },
  {
   "cell_type": "code",
   "execution_count": 14,
   "id": "fb0bc255-8ae1-4891-98c6-db5c77d48a92",
   "metadata": {},
   "outputs": [],
   "source": [
    "ncd.loc[ncd['paid_여부'] == 'N', '구분3'] = ncd['구분3'] + 'T'"
   ]
  },
  {
   "cell_type": "code",
   "execution_count": 15,
   "id": "c5cdcb4f-a21c-4cb4-a0bd-b6ff132b960f",
   "metadata": {},
   "outputs": [],
   "source": [
    "ncd = ncd.sort_values(by = ['회원번호','구분3','calc_ymd'])\n",
    "ncd_first = ncd.drop_duplicates(subset = ['회원번호','구분3'], keep = 'first').copy()\n",
    "\n",
    "for member in ncd_first['회원번호'].unique():\n",
    "    member_data = ncd_first[ncd_first['회원번호'] == member].sort_values(by='plan_regist').reset_index()\n",
    "    \n",
    "    for i in range(len(member_data)):\n",
    "        current_date = member_data.loc[i, 'plan_regist']\n",
    "        current_index = member_data.loc[i, 'index']\n",
    "        \n",
    "        previous_plans = member_data[member_data['plan_regist'] < current_date]\n",
    "        \n",
    "        if not previous_plans.empty:\n",
    "            last_date = previous_plans['plan_regist'].max()\n",
    "            last_plans = previous_plans[previous_plans['regist_ymd'] == last_date]['구분3'].tolist()\n",
    "            \n",
    "            unique_last_plans = list(dict.fromkeys(last_plans))\n",
    "            if len(unique_last_plans) > 1:\n",
    "                ncd_first.at[current_index, '이전상품'] = ', '.join(unique_last_plans)\n",
    "            else:\n",
    "                ncd_first.at[current_index, '이전상품'] = unique_last_plans[0]\n",
    "        \n",
    "        same_day_plans = member_data[member_data['plan_regist'] == current_date]['구분3'].str[0:4].unique()\n",
    "        if len(same_day_plans) > 1:\n",
    "            ncd_first.loc[member_data[member_data['plan_regist'] == current_date]['index'], '이전상품'] = '동시구독'\n"
   ]
  },
  {
   "cell_type": "code",
   "execution_count": 16,
   "id": "f839d4fe-0600-4aac-8ec2-abe15d4aaac7",
   "metadata": {},
   "outputs": [],
   "source": [
    "ncd = ncd.sort_values(by=['회원번호', '구분3', 'calc_ymd'])\n",
    "ncd_first2 = ncd[ncd['paid_여부'] == 'Y'].drop_duplicates(subset=['회원번호', '구분3'], keep='first').copy()\n",
    "\n",
    "for member in ncd_first2['회원번호'].unique():\n",
    "    member_data = ncd_first2[ncd_first2['회원번호'] == member].sort_values(by='plan_regist').reset_index()\n",
    "    \n",
    "    for i in range(len(member_data)):\n",
    "        current_date = member_data.loc[i, 'plan_regist']\n",
    "        current_index = member_data.loc[i, 'index']\n",
    "        \n",
    "        previous_plans = member_data[member_data['plan_regist'] < current_date]\n",
    "        \n",
    "        if not previous_plans.empty:\n",
    "            last_date = previous_plans['plan_regist'].max()\n",
    "            last_plans = previous_plans[previous_plans['plan_regist'] == last_date]['구분3'].tolist()\n",
    "            \n",
    "            unique_last_plans = list(dict.fromkeys(last_plans))\n",
    "            if len(unique_last_plans) > 1:\n",
    "                ncd_first2.at[current_index, '이전상품'] = ', '.join(unique_last_plans)\n",
    "            else:\n",
    "                ncd_first2.at[current_index, '이전상품'] = unique_last_plans[0]\n",
    "        \n",
    "        same_day_plans = member_data[member_data['plan_regist'] == current_date]['구분3'].str[0:4].unique()\n",
    "        if len(same_day_plans) > 1:\n",
    "            ncd_first2.loc[member_data[member_data['plan_regist'] == current_date]['index'], '이전상품'] = '동시구독'\n"
   ]
  },
  {
   "cell_type": "code",
   "execution_count": 17,
   "id": "1dfd4ffa-8814-4dd6-a356-1a36a6378945",
   "metadata": {},
   "outputs": [],
   "source": [
    "ncd = pd.merge(ncd, ncd_first[['회원번호','구분3','이전상품']],how='left',on = ['회원번호','구분3'])\n",
    "ncd = pd.merge(ncd, ncd_first2[['회원번호', '구분3', '이전상품']], how='left', on=['회원번호', '구분3'])"
   ]
  },
  {
   "cell_type": "code",
   "execution_count": 18,
   "id": "370b2d04-0b3b-4fe5-9afd-557e44398138",
   "metadata": {},
   "outputs": [],
   "source": [
    "ncd = ncd.drop(['이전상품_x','구분3','plan_regist'],axis = 1)\n",
    "ncd = ncd.rename(columns={'이전상품_y': '이전상품_Trial포함','이전상품':'Paid_이전상품'})"
   ]
  },
  {
   "cell_type": "code",
   "execution_count": 19,
   "id": "9ceb3d72-445b-4cd1-9d62-0fdb24f279d4",
   "metadata": {},
   "outputs": [],
   "source": [
    "def select_shortest_unique_product(products):\n",
    "    if pd.isna(products):\n",
    "        return ''\n",
    "    product_list = str(products).split(', ')\n",
    "    unique_products = {}\n",
    "\n",
    "    for product in product_list:\n",
    "        prefix = product[:4]\n",
    "        if prefix not in unique_products or len(product) < len(unique_products[prefix]):\n",
    "            unique_products[prefix] = product\n",
    "\n",
    "    return ', '.join(unique_products.values())\n",
    "\n",
    "ncd['이전상품_Trial포함'] = ncd['이전상품_Trial포함'].apply(select_shortest_unique_product)\n",
    "ncd['Paid_이전상품'] = ncd['Paid_이전상품'].apply(select_shortest_unique_product)"
   ]
  },
  {
   "cell_type": "code",
   "execution_count": 20,
   "id": "3cb3ebff-c05d-4aa4-a486-d42d07d24db2",
   "metadata": {},
   "outputs": [],
   "source": [
    "#매출정보컬럼추가\n",
    "boa1 = pd.read_excel('/Users/user/Documents/진행중 업무/데이터/BOA/BOA(202201)new.xlsx')\n",
    "boa2 = pd.read_excel('/Users/user/Documents/진행중 업무/데이터/BOA/BOA(202202)new.xlsx')\n",
    "boa3 = pd.read_excel('/Users/user/Documents/진행중 업무/데이터/BOA/BOA(202203)new.xlsx')\n",
    "boa4 = pd.read_excel('/Users/user/Documents/진행중 업무/데이터/BOA/BOA(202204)new.xlsx')\n",
    "boa5 = pd.read_excel('/Users/user/Documents/진행중 업무/데이터/BOA/BOA(202205)new.xlsx')\n",
    "boa6 = pd.read_excel('/Users/user/Documents/진행중 업무/데이터/BOA/BOA(202206)new.xlsx')\n",
    "boa7 = pd.read_excel('/Users/user/Documents/진행중 업무/데이터/BOA/BOA(202207)new.xlsx')\n",
    "boa8 = pd.read_excel('/Users/user/Documents/진행중 업무/데이터/BOA/BOA(202208)new.xlsx')\n",
    "boa9 = pd.read_excel('/Users/user/Documents/진행중 업무/데이터/BOA/BOA(202209)new.xlsx')\n",
    "boa10 = pd.read_excel('/Users/user/Documents/진행중 업무/데이터/BOA/BOA(202210)new.xlsx')\n",
    "boa11 = pd.read_excel('/Users/user/Documents/진행중 업무/데이터/BOA/BOA(202211)new.xlsx')\n",
    "boa12 = pd.read_excel('/Users/user/Documents/진행중 업무/데이터/BOA/BOA(202212)new.xlsx')\n",
    "boa13 = pd.read_excel('/Users/user/Documents/진행중 업무/데이터/BOA/BOA(202301)new.xlsx')\n",
    "boa14 = pd.read_excel('/Users/user/Documents/진행중 업무/데이터/BOA/BOA(202302)new.xlsx')\n",
    "boa15 = pd.read_excel('/Users/user/Documents/진행중 업무/데이터/BOA/BOA(202303)new.xlsx')\n",
    "boa16 = pd.read_excel('/Users/user/Documents/진행중 업무/데이터/BOA/BOA(202304)new.xlsx')\n",
    "boa17 = pd.read_excel('/Users/user/Documents/진행중 업무/데이터/BOA/BOA(202305)new.xlsx')\n",
    "boa18 = pd.read_excel('/Users/user/Documents/진행중 업무/데이터/BOA/BOA(202306)new.xlsx')\n",
    "boa19 = pd.read_excel('/Users/user/Documents/진행중 업무/데이터/BOA/BOA(202307)new.xlsx')\n",
    "boa20 = pd.read_excel('/Users/user/Documents/진행중 업무/데이터/BOA/BOA(202308)new.xlsx')\n",
    "boa21 = pd.read_excel('/Users/user/Documents/진행중 업무/데이터/BOA/BOA(202309)new.xlsx')\n",
    "boa22 = pd.read_excel('/Users/user/Documents/진행중 업무/데이터/BOA/BOA(202310)new.xlsx')\n",
    "boa23 = pd.read_excel('/Users/user/Documents/진행중 업무/데이터/BOA/BOA(202311)new.xlsx')\n",
    "boa24 = pd.read_excel('/Users/user/Documents/진행중 업무/데이터/BOA/BOA(202312)new.xlsx')\n",
    "boa25 = pd.read_excel('/Users/user/Documents/진행중 업무/데이터/BOA/BOA(202401)new.xlsx')\n",
    "boa26 = pd.read_excel('/Users/user/Documents/진행중 업무/데이터/BOA/BOA(202402)new.xlsx')\n",
    "boa27 = pd.read_excel('/Users/user/Documents/진행중 업무/데이터/BOA/BOA(202403)new.xlsx')\n",
    "boa28 = pd.read_excel('/Users/user/Documents/진행중 업무/데이터/BOA/BOA(202404)new.xlsx')\n",
    "boa29 = pd.read_excel('/Users/user/Documents/진행중 업무/데이터/BOA/BOA(202405)new.xlsx')\n",
    "boa30 = pd.read_excel('/Users/user/Documents/진행중 업무/데이터/BOA/BOA(202406)new.xlsx')\n",
    "boa31 = pd.read_excel('/Users/user/Documents/진행중 업무/데이터/BOA/BOA(202407)new.xlsx')\n",
    "boa32 = pd.read_excel('/Users/user/Documents/진행중 업무/데이터/BOA/BOA(202408)new.xlsx')\n",
    "boa33 = pd.read_excel('/Users/user/Documents/진행중 업무/데이터/BOA/BOA(202409)new.xlsx')\n",
    "boa34 = pd.read_excel('/Users/user/Documents/진행중 업무/데이터/BOA/BOA(202410)new.xlsx')\n",
    "boa35 = pd.read_excel('/Users/user/Documents/진행중 업무/데이터/BOA/BOA(202411)new.xlsx')\n",
    "boa = pd.concat([boa1, boa2, boa3, boa4, boa5, boa6, boa7, boa8, boa9, boa10,\n",
    "                 boa11, boa12, boa13, boa14, boa15, boa16, boa17, boa18, boa19, boa20, \n",
    "                 boa21, boa22, boa23, boa24, boa25, boa26, boa27, boa28, boa29, boa30,\n",
    "                 boa31, boa32, boa33, boa34, boa35])\n",
    "boa.rename(columns = {'NCP회원번호':'회원번호','상품구분':'구분3'}, inplace=True)\n",
    "boa = boa[boa['채널'] == '파트너 매출']\n",
    "boa = boa[boa['매출금액']>0]\n",
    "boa['이용금액대비매출금액'] = boa['매출금액']/boa['이용금액']\n",
    "pt = boa.groupby(['회원번호','구분3'])['이용금액대비매출금액'].mean().reset_index()"
   ]
  },
  {
   "cell_type": "code",
   "execution_count": 21,
   "id": "b94b1e52-c28c-4c29-910a-20ccf7496e64",
   "metadata": {},
   "outputs": [],
   "source": [
    "ncd['month_info'] = ncd['미터링일시'].astype(str).str[0:6]\n",
    "ncd['dayCount'] = ncd.groupby(['회원번호', '미터링유형코드명','month_info'])['회원번호'].transform('size')\n",
    "ncd['약정할인금액'] = np.where(\n",
    "        (ncd['plan'].isin(['COR_STD_P'])) & (ncd['약정여부'] == 'Y'), \n",
    "        2000, \n",
    "        np.where(\n",
    "            (ncd['plan'].isin(['COR_LT','COR_STD','DRV_LT','DRV_STD','DRV_STD_P'])) & (ncd['약정여부'] == 'Y'), \n",
    "            1000,\n",
    "            np.where(\n",
    "                (ncd['plan'].isin(['PAY_STD'])) & (ncd['약정여부'] == 'Y'), \n",
    "                1500,\n",
    "                np.where(\n",
    "                    (ncd['plan'].isin(['APP_STD'])) & (ncd['약정여부'] == 'Y'), \n",
    "                    1000, \n",
    "                    np.where(\n",
    "                        (ncd['plan'].isin(['ATT_STD','FIN_STD'])) & (ncd['약정여부'] == 'Y'), \n",
    "                        50,\n",
    "                        np.where(\n",
    "                            (ncd['plan'].isin(['COR_LT','COR_STD','COR_STD_P','DRV_LT','DRV_STD','DRV_STD_P','APP_STD','ATT_STD','FIN_STD','PAY_STD'])) & (ncd['약정여부'] == 'N'), \n",
    "                            0,\n",
    "                            0\n",
    "                        )\n",
    "                    )\n",
    "                )\n",
    "            )\n",
    "        )\n",
    "    )\n",
    "ncd['미터링일시'] = ncd['미터링일시'].astype(str)\n",
    "ncd['월별일수'] = np.where(\n",
    "    ncd['미터링일시'].str[4:6].isin(['01', '03', '05', '07', '08', '10', '12']),\n",
    "    31,\n",
    "    np.where(\n",
    "        ncd['미터링일시'].str[4:6].isin(['04', '06', '09', '11']),\n",
    "        30,\n",
    "        np.where(\n",
    "            (ncd['미터링일시'].str[0:4].astype(int) % 4 == 0),\n",
    "            29, \n",
    "            28\n",
    "        )\n",
    "    )\n",
    ")\n",
    "ncd['미터링일시'] = ncd['미터링일시'].astype(int)\n",
    "ncd['일요금(당일)'] = (ncd['요금']/ncd['월별일수'])*ncd['사용량']\n",
    "ncd['약정할인 후 요금'] = ncd['요금'] - ncd['약정할인금액']\n",
    "ncd['약정할인율'] = ncd['약정할인금액']/ncd['요금']\n",
    "ncd['결합할인 여부'] = 'Y'\n",
    "ncd.loc[ncd['plan'].isin(['ATT_STD', 'FIN_STD', 'PAY_STD']), '결합할인 여부'] = 'N'\n",
    "ncd['결합할인 여부'] = np.where(\n",
    "    (ncd.duplicated(subset=['회원번호','미터링일시','paid_여부','약정여부','결합할인 여부'], keep=False)) & (ncd['paid_여부'] == 'Y') & (ncd['약정여부'] == 'Y') & (ncd['결합할인 여부'] == 'Y'),\n",
    "    'Y',\n",
    "    'N')\n",
    "ncd.loc[ncd['약정여부'] == 'N', '결합할인 여부'] = 'N'\n",
    "ncd['미터링일시'] = ncd['미터링일시'].astype(str)\n",
    "ncd['일매출(당일)'] = np.where(\n",
    "    (ncd['결합할인 여부'] == 'Y'),\n",
    "    ((ncd['요금']/ncd['월별일수'])*ncd['사용량']*(1-ncd['약정할인율']))*0.9,\n",
    "    (ncd['요금']/ncd['월별일수'])*ncd['사용량']*(1-ncd['약정할인율']))\n",
    "\n",
    "ncd['구분3'] = ''\n",
    "ncd.loc[ncd['plan'].str[0:3]=='COR','구분3']='NAVER WORKS'\n",
    "ncd.loc[ncd['plan'].str[0:3]=='DRV','구분3']='WORKS DRIVE'\n",
    "ncd.loc[ncd['plan'].str[0:3]=='CNT','구분3']='클로바노트'\n",
    "ncd.loc[ncd['plan'].str[0:3].isin(['APP','ATT','FIN','PAY']),'구분3']='WORKPLACE'\n",
    "\n",
    "ncd['일매출(당일)'] = ncd['일매출(당일)'].fillna(0)\n",
    "ncd = pd.merge(ncd, pt, how='left', on=['회원번호', '구분3'])\n",
    "ncd.loc[~ncd['이용금액대비매출금액'].isna(), '일매출(당일)'] = ncd['일요금(당일)'] * ncd['이용금액대비매출금액']\n",
    "ncd = ncd.drop(['month_info','dayCount','약정할인금액','월별일수','약정할인 후 요금','약정할인율','결합할인 여부','구분3','이용금액대비매출금액'], axis = 1)"
   ]
  },
  {
   "cell_type": "code",
   "execution_count": 22,
   "id": "a448dfca-38d2-4a1f-8f83-e6fba702dc6a",
   "metadata": {},
   "outputs": [],
   "source": [
    "#ncd_new = ncd[ncd['regist_ymd']>20241005]\n",
    "#ncd_new_t = ncd_new[ncd_new['paid_여부']=='N']\n",
    "#ncd_new_t_20241105 = ncd_new_t[ncd_new_t['미터링일시']==20241105]\n",
    "#ncd_new_t_no_user_20241105 = ncd_new_t_20241105[ncd_new_t_20241105['사용량']==0]\n",
    "#ncd_new_t_no_user_20241105.to_csv('/Users/user/Documents/진행중 업무/new_domain_trial_no_user.csv', index=False)"
   ]
  },
  {
   "cell_type": "code",
   "execution_count": 23,
   "id": "94dea926-954c-4f3b-8e3f-b180487d4e37",
   "metadata": {},
   "outputs": [],
   "source": [
    "def format_date(x):\n",
    "    try:\n",
    "        x = int(float(x))\n",
    "        year = str(x)[:4]\n",
    "        month = str(int(str(x)[4:6]))\n",
    "        day = str(int(str(x)[6:]))\n",
    "        return f\"{year}.{month}.{day}\"\n",
    "    except (ValueError, TypeError):\n",
    "        return None \n",
    "        \n",
    "def preprocess4 (df) :\n",
    "    df['calc_ymd'] = df['calc_ymd'].apply(format_date)\n",
    "    df['regist_ymd'] = df['regist_ymd'].apply(format_date)\n",
    "    df['delete_ymd'] = df['delete_ymd'].apply(format_date)\n",
    "    df['domainRegistdate'] = df['domainRegistdate'].apply(format_date)\n",
    "    df['전환일'] = df['전환일'].apply(format_date)\n",
    "\n",
    "    df['전환여부'] = np.where(df['paid_여부']== 'Y', np.nan, df['전환여부'])\n",
    "    df['전환일'] = np.where(df['paid_여부']== 'Y', np.nan, df['전환일'])\n",
    "\n",
    "    return df\n",
    "\n",
    "ncd = preprocess4(ncd)"
   ]
  },
  {
   "cell_type": "code",
   "execution_count": 24,
   "id": "c862417a-f9d0-4544-ba95-a87bca393977",
   "metadata": {},
   "outputs": [],
   "source": [
    "ncd.to_csv('/Users/user/Documents/진행중 업무/ncd_metering2.csv',index=False)"
   ]
  },
  {
   "cell_type": "code",
   "execution_count": 3,
   "id": "32c2a65b-9172-4b20-ad33-3193483cebeb",
   "metadata": {},
   "outputs": [
    {
     "name": "stderr",
     "output_type": "stream",
     "text": [
      "/var/folders/yj/y3b7nzyn7zv0l9bkqtj_37g40000gn/T/ipykernel_17738/4125878327.py:1: DtypeWarning: Columns (31,35,36,41,43,47,48,49,50) have mixed types. Specify dtype option on import or set low_memory=False.\n",
      "  ncd = pd.read_csv('/Users/user/Documents/진행중 업무/ncd_metering2.csv')\n"
     ]
    }
   ],
   "source": [
    "ncd = pd.read_csv('/Users/user/Documents/진행중 업무/ncd_metering2.csv')"
   ]
  },
  {
   "cell_type": "code",
   "execution_count": 4,
   "id": "49fa0f77-aeac-44e6-a03b-d2a08cb2226d",
   "metadata": {},
   "outputs": [],
   "source": [
    "ncd1231 = ncd[ncd['미터링일시']==20241231]"
   ]
  },
  {
   "cell_type": "code",
   "execution_count": 7,
   "id": "acdf2efe-85be-417d-941a-b04c36cba6b8",
   "metadata": {},
   "outputs": [
    {
     "data": {
      "text/plain": [
       "54876.0"
      ]
     },
     "execution_count": 7,
     "metadata": {},
     "output_type": "execute_result"
    }
   ],
   "source": [
    "ncd1231[ncd1231['plan']=='COR_LT']['사용량'].sum()"
   ]
  },
  {
   "cell_type": "code",
   "execution_count": 9,
   "id": "f8bc3d54-c35b-42f7-a992-87d105aff870",
   "metadata": {},
   "outputs": [
    {
     "data": {
      "text/plain": [
       "435259.0"
      ]
     },
     "execution_count": 9,
     "metadata": {},
     "output_type": "execute_result"
    }
   ],
   "source": [
    "ncd1231[ncd1231['plan']=='COR_STD']['사용량'].sum()"
   ]
  },
  {
   "cell_type": "code",
   "execution_count": 11,
   "id": "a7a44771-b069-4b46-980c-e4cc928dfa5f",
   "metadata": {},
   "outputs": [
    {
     "data": {
      "text/plain": [
       "81350.0"
      ]
     },
     "execution_count": 11,
     "metadata": {},
     "output_type": "execute_result"
    }
   ],
   "source": [
    "ncd1231[ncd1231['plan']=='COR_STD_P']['사용량'].sum()"
   ]
  },
  {
   "cell_type": "code",
   "execution_count": 13,
   "id": "c2cb6be8-015b-4c56-9558-cb19468b3545",
   "metadata": {},
   "outputs": [
    {
     "data": {
      "text/plain": [
       "1324.0"
      ]
     },
     "execution_count": 13,
     "metadata": {},
     "output_type": "execute_result"
    }
   ],
   "source": [
    "ncd1231[ncd1231['plan']=='DRV_LT']['사용량'].sum()"
   ]
  },
  {
   "cell_type": "code",
   "execution_count": 15,
   "id": "e3df0de9-0465-4e3c-b94a-3414b33b84fe",
   "metadata": {},
   "outputs": [
    {
     "data": {
      "text/plain": [
       "843.0"
      ]
     },
     "execution_count": 15,
     "metadata": {},
     "output_type": "execute_result"
    }
   ],
   "source": [
    "ncd1231[ncd1231['plan']=='DRV_STD']['사용량'].sum()"
   ]
  },
  {
   "cell_type": "code",
   "execution_count": 17,
   "id": "2a5f53b6-06fe-4598-a556-1d5a68352620",
   "metadata": {},
   "outputs": [
    {
     "data": {
      "text/plain": [
       "2764.0"
      ]
     },
     "execution_count": 17,
     "metadata": {},
     "output_type": "execute_result"
    }
   ],
   "source": [
    "ncd1231[ncd1231['plan']=='DRV_STD_P']['사용량'].sum()"
   ]
  },
  {
   "cell_type": "code",
   "execution_count": null,
   "id": "4c1937e4-68f4-4300-9eb2-3ab788b1d974",
   "metadata": {},
   "outputs": [],
   "source": []
  }
 ],
 "metadata": {
  "kernelspec": {
   "display_name": "Python 3 (ipykernel)",
   "language": "python",
   "name": "python3"
  },
  "language_info": {
   "codemirror_mode": {
    "name": "ipython",
    "version": 3
   },
   "file_extension": ".py",
   "mimetype": "text/x-python",
   "name": "python",
   "nbconvert_exporter": "python",
   "pygments_lexer": "ipython3",
   "version": "3.12.4"
  }
 },
 "nbformat": 4,
 "nbformat_minor": 5
}
