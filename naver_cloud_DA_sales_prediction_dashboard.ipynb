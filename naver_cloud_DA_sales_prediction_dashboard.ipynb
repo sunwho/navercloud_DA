{
 "cells": [
  {
   "cell_type": "code",
   "execution_count": 1,
   "id": "5610699a-4201-44d1-aa84-8df60c6698c4",
   "metadata": {},
   "outputs": [],
   "source": [
    "import pandas as pd\n",
    "import numpy as np\n",
    "import matplotlib.pyplot as plt\n",
    "import re"
   ]
  },
  {
   "cell_type": "code",
   "execution_count": 1,
   "id": "c4ae97d4-ba31-4c10-8f7e-17615db986cf",
   "metadata": {},
   "outputs": [],
   "source": [
    "month_code = '09'\n",
    "month_day = 30"
   ]
  },
  {
   "cell_type": "code",
   "execution_count": 83,
   "id": "4a0ce234-5b18-41bf-8ccf-bae39bca632d",
   "metadata": {},
   "outputs": [],
   "source": [
    "file_discern_name = month_code + '.xlsx'\n",
    "ncd_app = pd.read_excel('/Users/user/Documents/NCD 데이터/ncd_app24'+file_discern_name)\n",
    "ncd_att = pd.read_excel('/Users/user/Documents/NCD 데이터/ncd_att24'+file_discern_name)\n",
    "ncd_box = pd.read_excel('/Users/user/Documents/NCD 데이터/ncd_box24'+file_discern_name)\n",
    "ncd_corlt = pd.read_excel('/Users/user/Documents/NCD 데이터/ncd_corlt24'+file_discern_name)\n",
    "ncd_corstd = pd.read_excel('/Users/user/Documents/NCD 데이터/ncd_corstd24'+file_discern_name)\n",
    "ncd_corstdp = pd.read_excel('/Users/user/Documents/NCD 데이터/ncd_corstdp24'+file_discern_name)\n",
    "ncd_cort = pd.read_excel('/Users/user/Documents/NCD 데이터/ncd_cort24'+file_discern_name)\n",
    "ncd_drv = pd.read_excel('/Users/user/Documents/NCD 데이터/ncd_drv24'+file_discern_name)\n",
    "#ncd_cnt = pd.read_excel('/Users/user/Documents/NCD 데이터/ncd_cnt24'+file_discern_name)\n",
    "ncd_fin = pd.read_excel('/Users/user/Documents/NCD 데이터/ncd_fin24'+file_discern_name)\n",
    "ncd_pay = pd.read_excel('/Users/user/Documents/NCD 데이터/ncd_pay24'+file_discern_name)\n",
    "\n",
    "ncd_app['plan'] = 'APP_STD'\n",
    "ncd_att['plan'] = 'ATT_STD'\n",
    "ncd_corlt['plan'] = 'COR_LT'\n",
    "ncd_corstd['plan'] = 'COR_STD'\n",
    "ncd_corstdp['plan'] = 'COR_STD_P'\n",
    "ncd_cort['plan'] = 'COR_T'\n",
    "ncd_drv['plan'] = ''\n",
    "ncd_box['plan'] = 'BOX'\n",
    "ncd_drv.loc[ncd_drv['미터링유형코드명']=='웍스 드라이브 체험판','plan'] = 'DRV_T'\n",
    "ncd_drv.loc[ncd_drv['미터링유형코드명']=='웍스 드라이브 Lite','plan'] = 'DRV_LT'\n",
    "ncd_drv.loc[ncd_drv['미터링유형코드명']=='웍스 드라이브 Standard','plan'] = 'DRV_STD'\n",
    "ncd_drv.loc[ncd_drv['미터링유형코드명']=='웍스 드라이브 Standard Plus','plan'] = 'DRV_STD_P'\n",
    "#ncd_cnt['plan'] = ''\n",
    "#ncd_cnt.loc[ncd_cnt['미터링유형코드명']=='웍스 클로바노트 체험판','plan'] = 'CNT_T'\n",
    "#ncd_cnt.loc[ncd_cnt['미터링유형코드명']=='웍스 클로바노트 Lite','plan'] = 'CNT_LT'\n",
    "#ncd_cnt.loc[ncd_cnt['미터링유형코드명']=='웍스 클로바노트 Business','plan'] = 'CNT_BZ'\n",
    "#ncd_cnt.loc[ncd_cnt['미터링유형코드명']=='웍스 클로바노트 Team','plan'] = 'CNT_TM'\n",
    "#ncd_cnt.loc[ncd_cnt['미터링유형코드명']=='웍스 클로바노트 Enterprise','plan'] = 'CNT_EP'\n",
    "ncd_fin['plan'] = 'FIN_STD'\n",
    "ncd_pay['plan'] = 'PAY_STD'\n",
    "ncd_box['사용량'] = ncd_box['상품사이즈']\n",
    "ncd_box['사용량'] = ncd_box['사용량'].fillna(0)\n",
    "\n",
    "ncd = pd.concat([ncd_app, ncd_att, ncd_box, ncd_corlt, ncd_corstd, ncd_corstdp, ncd_cort, ncd_drv, ncd_fin, ncd_pay])\n",
    "sales_expectation = []\n",
    "recent_month = pd.read_excel('/Users/user/Documents/진행중 업무/데이터/BOA/BOA(20240'+str(int(month_code)-1)+')new.xlsx')\n",
    "recent_month.rename(columns={'NCP회원번호': '회원번호', '상품구분': '구분3'}, inplace=True)\n",
    "pt = recent_month[recent_month['채널'] == '파트너 매출']\n",
    "pt = pt[pt['매출금액']>0]\n",
    "pt = pt.copy()\n",
    "pt.loc[:, '파트너할인율'] = 0.0\n",
    "pt.loc[:, '파트너할인율'] = 1 - (pt['매출금액'] / pt['이용금액'])\n",
    "pt = pt[['회원번호', '구분3','파트너할인율']]\n",
    "ncd_copy = ncd.copy()\n",
    "for i in range(month_day,month_day+1) :\n",
    "    ncd = ncd_copy[ncd_copy['미터링일시']<= (20240000+(int(month_code)*100)+i)]\n",
    "    ncd = ncd.reset_index(drop=True)\n",
    "    ncd = ncd[ncd['사용량'] != 0]\n",
    "    ncd = ncd[ncd['요금'] != 0]\n",
    "    ncd = ncd[ncd['회원그룹명'] != '내부회원']\n",
    "    ncd['구분1'] = 'Business Application'\n",
    "    ncd['구분2'] = 'Business Applications'\n",
    "    ncd['구분3'] = ncd['인스턴스유형코드명']\n",
    "    ncd['상품명'] = ncd['미터링유형코드명']\n",
    "    ncd['플랫폼'] = '민간'\n",
    "    ncd['리전명_y'] = '한국'\n",
    "    ncd['리전번호_y'] = 1\n",
    "    ncd['dayCount'] = ncd.groupby(['회원번호', '미터링유형코드명'])['회원번호'].transform('size')\n",
    "    ncd['paid user 여부'] = ncd['요금'].apply(lambda x : 'trial' if x == 0 else 'paid')\n",
    "    ncd['month_info'] = ncd['미터링일시'].astype(str).str[0:6]\n",
    "    ncd['dayCount'] = ncd.groupby(['회원번호', '미터링유형코드명','month_info'])['회원번호'].transform('size')\n",
    "    ncd['약정할인금액'] = np.where(\n",
    "        (ncd['미터링유형코드명'].isin(['웍스 코어 Standard Plus'])) & (ncd['약정여부'] == 'Y'), \n",
    "        2000, \n",
    "        np.where(\n",
    "            (ncd['미터링유형코드명'].isin(['웍스 코어 Lite','웍스 코어 Standard','웍스 드라이브 Lite','웍스 드라이브 Standard','웍스 드라이브 Standard Plus'])) & (ncd['약정여부'] == 'Y'), \n",
    "            1000,\n",
    "            np.where(\n",
    "                (ncd['미터링유형코드명'].isin(['웍스 급여'])) & (ncd['약정여부'] == 'Y'), \n",
    "                1500,\n",
    "                np.where(\n",
    "                    (ncd['미터링유형코드명'].isin(['웍스 결재'])) & (ncd['약정여부'] == 'Y'), \n",
    "                    1000, \n",
    "                    np.where(\n",
    "                        (ncd['미터링유형코드명'].isin(['웍스 근태','웍스 재무'])) & (ncd['약정여부'] == 'Y'), \n",
    "                        50,\n",
    "                        np.where(\n",
    "                            (ncd['미터링유형코드명'].isin(['웍스 코어 Lite','웍스 코어 Standard','웍스 코어 Standard Plus','웍스 드라이브 Lite','웍스 드라이브 Standard','웍스 드라이브 Standard Plus','웍스 결재','웍스 근태','웍스 재무','웍스 급여'])) & (ncd['약정여부'] == 'N'), \n",
    "                            0,\n",
    "                            0\n",
    "                        )\n",
    "                    )\n",
    "                )\n",
    "            )\n",
    "        )\n",
    "    )\n",
    "    ncd['미터링일시'] = ncd['미터링일시'].astype(str)\n",
    "    ncd['월별일수'] = np.where(\n",
    "        ncd['미터링일시'].str[4:6].isin(['01', '03', '05', '07', '08', '10', '12']),\n",
    "        31,\n",
    "        np.where(\n",
    "            ncd['미터링일시'].str[4:6].isin(['04', '06', '09', '11']),\n",
    "            30,\n",
    "            np.where(\n",
    "                (ncd['미터링일시'].str[0:4].astype(int) % 4 == 0),\n",
    "                29, \n",
    "                28\n",
    "            )\n",
    "        )\n",
    "    )\n",
    "    \n",
    "    ncd['일요금(당일)'] = (ncd['요금']/ncd['월별일수'])*ncd['사용량']\n",
    "    ncd['약정할인 후 요금'] = ncd['요금'] - ncd['약정할인금액']\n",
    "    ncd['약정할인율'] = ncd['약정할인금액']/ncd['요금']\n",
    "    ncd['결합할인 여부'] = 'Y'\n",
    "    ncd.loc[ncd['미터링유형코드명'].isin(['웍스 근태', '웍스 재무', '웍스 급여']), '결합할인 여부'] = 'N'\n",
    "    ncd['결합할인 여부'] = np.where(\n",
    "        (ncd.duplicated(subset=['회원번호','미터링일시','paid user 여부','약정여부','결합할인 여부'], keep=False)) & (ncd['paid user 여부'] == 'paid') & (ncd['약정여부'] == 'Y') & (ncd['결합할인 여부'] == 'Y'),\n",
    "        'Y',\n",
    "        'N')\n",
    "    ncd.loc[ncd['약정여부'] == 'N', '결합할인 여부'] = 'N'\n",
    "    ncd['미터링일시'] = ncd['미터링일시'].astype(str)\n",
    "    ncd['일매출(당일)'] = np.where(\n",
    "        (ncd['결합할인 여부'] == 'Y'),\n",
    "        ((ncd['요금']/ncd['월별일수'])*ncd['사용량']*(1-ncd['약정할인율']))*0.9,\n",
    "        (ncd['요금']/ncd['월별일수'])*ncd['사용량']*(1-ncd['약정할인율']))\n",
    "    ncd = ncd.sort_values(by=['회원번호', '미터링유형코드명', '미터링일시'])\n",
    "    ncd['일매출(전일)'] = ncd.groupby(['회원번호', '미터링유형코드명'])['일매출(당일)'].shift(1)\n",
    "    ncd['일매출 증가율'] = ((ncd['일매출(당일)'] - ncd['일매출(전일)']) / ncd['일매출(전일)'])\n",
    "    ncd['누적 일매출'] = ncd.groupby(['회원번호', '미터링유형코드명'])['일매출(당일)'].cumsum()\n",
    "    ncd['월매출(당월)'] = ncd.groupby(['회원번호', '미터링유형코드명'])['일매출(당일)'].transform('sum')\n",
    "    ncd['월요금(당월)'] = ncd.groupby(['회원번호', '미터링유형코드명'])['일요금(당일)'].transform('sum')\n",
    "    ncd['사용량_mean'] = ncd.groupby(['회원번호', '미터링유형코드명'])['사용량'].transform('mean')\n",
    "    ncd = ncd.drop(['dayCount'], axis = 1)\n",
    "    ncd = ncd.sort_values(by=['회원번호', '미터링유형코드명', '미터링일시'], ascending = [True, False, True])\n",
    "    ncd = ncd.reset_index(drop=True)\n",
    "    ncd.loc[ncd['미터링유형코드명'].str[:5] == '웍스 드라', '청구유형코드명'] = 'WORKBOX'\n",
    "    ncd.loc[ncd['미터링유형코드명'].isin(['웍스 결재','웍스 근태','웍스 재무','웍스 급여']), '청구유형코드명'] = 'WORKPLACE'\n",
    "    ncd = ncd[['회원번호','파트너사회원번호','회원그룹코드','청구유형코드명','미터링유형코드명','plan','미터링일시','사용량_mean','약정여부','월매출(당월)','월요금(당월)']]\n",
    "    ncd_unique = ncd.drop_duplicates(subset=['회원번호', '미터링유형코드명'], keep='first').reset_index(drop=True)\n",
    "    ncd_unique['회원번호'] = ncd_unique['회원번호'].astype(int)\n",
    "    ncd_unique.columns = ['회원번호','파트너사회원번호','회원그룹코드','구분3','미터링유형코드명','plan','미터링일시','사용량','약정여부','월매출(당월)','월요금(당월)']\n",
    "    ncd_unique1 = ncd_unique.groupby(['회원번호','회원그룹코드','구분3'])[['월매출(당월)','월요금(당월)']].sum().reset_index()\n",
    "    ncd_unique1 = pd.merge(ncd_unique1, ncd_unique[['회원번호','파트너사회원번호','구분3','plan','사용량']], how = 'left',on = ['회원번호','구분3'])\n",
    "    ncd_unique = ncd_unique1\n",
    "    ncd_unique = ncd_unique.drop_duplicates(subset=['회원번호', '구분3'], keep='last').reset_index(drop=True)\n",
    "    delete1 = pd.read_excel('/Users/user/Documents/업무문서/iima 테스트도메인.xlsx')\n",
    "    delete2 = pd.read_excel('/Users/user/Documents/업무문서/Edu 제외.xlsx')\n",
    "    delete3 = pd.read_excel('/Users/user/Documents/업무문서/파트너 제외.xlsx')\n",
    "    delete4 = pd.read_excel('/Users/user/Documents/업무문서/수동 제외.xlsx')\n",
    "    ncd_unique = ncd_unique[~ncd_unique['회원번호'].isin(delete1['ncpId'])]\n",
    "    ncd_unique = ncd_unique[~ncd_unique['회원번호'].isin(delete2['ncpId'])]\n",
    "    ncd_unique = ncd_unique[~ncd_unique['회원번호'].isin(delete3['partnerDomainId'])]\n",
    "    ncd_unique = ncd_unique[~ncd_unique['회원번호'].isin(delete4['ncpId'])]\n",
    "\n",
    "    ncd_unique['회원번호'] = ncd_unique['회원번호'].astype(str)\n",
    "    pt['회원번호'] = pt['회원번호'].astype(str)\n",
    "\n",
    "    merge = pd.merge(ncd_unique, pt, how='left', on=['회원번호', '구분3'])\n",
    "    merge.columns = ['회원번호','회원그룹코드','구분3','예상월매출','예상월요금','파트너사회원번호','plan','사용량','파트너할인율']\n",
    "    merge.loc[~merge['파트너할인율'].isna(),'예상월매출'] = merge['예상월요금'] * (1 - merge['파트너할인율'])\n",
    "    merge = merge[['회원번호','회원그룹코드','파트너사회원번호','구분3','plan','예상월매출','예상월요금','사용량']]\n",
    "    merge = merge.drop_duplicates(subset=['회원번호', '구분3'], keep='last').reset_index(drop=True)\n",
    "    \n",
    "    promotion = pd.read_excel('/Users/user/Documents/진행중 업무/웍스오픈프로모션_24.06-09대상자_241010_v3.xlsx', sheet_name=None)\n",
    "    june = list(promotion.keys())[1]\n",
    "    june_promotion = promotion[june]\n",
    "    june_promotion = june_promotion.iloc[1:8,0:6]\n",
    "    june_promotion['회원번호'] = june_promotion['회원번호'].astype(str)\n",
    "    july = list(promotion.keys())[2]\n",
    "    july_promotion = promotion[july]\n",
    "    july_promotion = july_promotion.iloc[1:,0:6]\n",
    "    #july_promotion = july_promotion.drop(411, axis=0)\n",
    "    july_promotion['회원번호'] = july_promotion['회원번호'].astype(str)\n",
    "    august = list(promotion.keys())[3]\n",
    "    august_promotion = promotion[august]\n",
    "    august_promotion = august_promotion.iloc[1:,0:6]\n",
    "    august_promotion['회원번호'] = august_promotion['회원번호'].astype(str)\n",
    "    september = list(promotion.keys())[4]\n",
    "    september_promotion = promotion[september]\n",
    "    september_promotion = september_promotion.iloc[1:,0:6]\n",
    "    september_promotion['회원번호'] = september_promotion['회원번호'].astype(int)\n",
    "    september_promotion['회원번호'] = september_promotion['회원번호'].astype(str)\n",
    "    \n",
    "    # june_promotion 제외\n",
    "    temp_merge = merge.merge(june_promotion[['회원번호', 'base_item_id 상품명']], \n",
    "                             left_on=['회원번호', 'plan'], \n",
    "                             right_on=['회원번호', 'base_item_id 상품명'], \n",
    "                             how='left', indicator='_merge1')\n",
    "    merge = temp_merge[temp_merge['_merge1'] == 'left_only'].drop(columns=['_merge1', 'base_item_id 상품명'])\n",
    "    \n",
    "    # july_promotion 제외\n",
    "    temp_merge = merge.merge(july_promotion[['회원번호', 'base_item_id 상품명']], \n",
    "                             left_on=['회원번호', 'plan'], \n",
    "                             right_on=['회원번호', 'base_item_id 상품명'], \n",
    "                              how='left', indicator='_merge2')\n",
    "    merge = temp_merge[temp_merge['_merge2'] == 'left_only'].drop(columns=['_merge2', 'base_item_id 상품명'])\n",
    "    \n",
    "    # august_promotion 제외\n",
    "    temp_merge = merge.merge(august_promotion[['회원번호', 'base_item_id 상품명']], \n",
    "                             left_on=['회원번호', 'plan'],\n",
    "                             right_on=['회원번호', 'base_item_id 상품명'], \n",
    "                             how='left', indicator='_merge3')\n",
    "    merge = temp_merge[temp_merge['_merge3'] == 'left_only'].drop(columns=['_merge3', 'base_item_id 상품명'])\n",
    "    \n",
    "    # september_promotion 제외\n",
    "    #temp_merge = merge.merge(september_promotion[['회원번호', 'base_item_id 상품명']], \n",
    "    #                         left_on=['회원번호', 'plan'], \n",
    "    #                         right_on=['회원번호', 'base_item_id 상품명'],\n",
    "    #                         how='left', indicator='_merge4')\n",
    "    #merge = temp_merge[temp_merge['_merge4'] == 'left_only'].drop(columns=['_merge4', 'base_item_id 상품명'])\n",
    "    \n",
    "    total_sales = merge['예상월매출'].sum() * month_day / i\n",
    "    sales_expectation.append(total_sales)"
   ]
  },
  {
   "cell_type": "code",
   "execution_count": 84,
   "id": "f78d5819-0241-4537-8a09-762584d12ad1",
   "metadata": {},
   "outputs": [],
   "source": [
    "sales_expectation9 = sales_expectation"
   ]
  },
  {
   "cell_type": "code",
   "execution_count": 85,
   "id": "d9a4f15c-4a6c-4920-aec9-809bae869047",
   "metadata": {},
   "outputs": [],
   "source": [
    "merge.to_excel('/Users/user/Documents/업무문서/ncd9_sales_expectation.xlsx',index=False)"
   ]
  },
  {
   "cell_type": "code",
   "execution_count": 42,
   "id": "42a2de84-c905-4cf3-a3e9-f4ff240ab5ee",
   "metadata": {},
   "outputs": [
    {
     "data": {
      "text/plain": [
       "[2018744390.5433795,\n",
       " 2018860738.058918,\n",
       " 2018284306.5396001,\n",
       " 2018236459.40642,\n",
       " 2018726068.8043647,\n",
       " 2019126112.9125135,\n",
       " 2019496646.5127144,\n",
       " 2019890564.5621457,\n",
       " 2020359263.8340209,\n",
       " 2020768974.639129,\n",
       " 2021168190.2905989,\n",
       " 2021589661.0016744,\n",
       " 2021874053.8234816,\n",
       " 2022186035.365587,\n",
       " 2022479252.612583,\n",
       " 2022854302.5584643,\n",
       " 2023191097.8082612,\n",
       " 2023619468.7040253,\n",
       " 2024286226.5990894,\n",
       " 2024974895.2258458,\n",
       " 2025534819.6644099,\n",
       " 2026099174.0416427,\n",
       " 2026717964.7084537,\n",
       " 2027362116.5368586,\n",
       " 2027975520.0935733,\n",
       " 2028613014.1684442,\n",
       " 2029208777.0226672,\n",
       " 2029962719.80635,\n",
       " 2030555798.515057,\n",
       " 2031173551.7632322,\n",
       " 2031662017.5084133]"
      ]
     },
     "execution_count": 42,
     "metadata": {},
     "output_type": "execute_result"
    }
   ],
   "source": [
    "sales_expectation8"
   ]
  },
  {
   "cell_type": "code",
   "execution_count": 86,
   "id": "5c01fc13-99d0-4488-b311-a1a13bb5a0e9",
   "metadata": {},
   "outputs": [
    {
     "data": {
      "text/plain": [
       "[2040767649.8739104]"
      ]
     },
     "execution_count": 86,
     "metadata": {},
     "output_type": "execute_result"
    }
   ],
   "source": [
    "sales_expectation9"
   ]
  },
  {
   "cell_type": "code",
   "execution_count": 72,
   "id": "7e2fe122-ac2f-4696-a815-04fff89b2bef",
   "metadata": {},
   "outputs": [
    {
     "data": {
      "text/plain": [
       "[2028802632.0646036]"
      ]
     },
     "execution_count": 72,
     "metadata": {},
     "output_type": "execute_result"
    }
   ],
   "source": [
    "sales_expectation10"
   ]
  },
  {
   "cell_type": "code",
   "execution_count": 52,
   "id": "a024ae3d-d5fd-4ab3-8b17-5c341dbbe03e",
   "metadata": {},
   "outputs": [
    {
     "data": {
      "text/plain": [
       "[2055900075.9945002]"
      ]
     },
     "execution_count": 52,
     "metadata": {},
     "output_type": "execute_result"
    }
   ],
   "source": [
    "sales_expectation11"
   ]
  },
  {
   "cell_type": "code",
   "execution_count": 36,
   "id": "ae265d23-77ef-4384-a6e9-f27bfb468f4a",
   "metadata": {},
   "outputs": [
    {
     "data": {
      "text/plain": [
       "[2096304457.292387]"
      ]
     },
     "execution_count": 36,
     "metadata": {},
     "output_type": "execute_result"
    }
   ],
   "source": [
    "sales_expectation12"
   ]
  },
  {
   "cell_type": "code",
   "execution_count": 38,
   "id": "64eaef63-ee3e-4d6a-8672-148f0ff1d231",
   "metadata": {},
   "outputs": [],
   "source": [
    "boa2411 = pd.read_excel('/Users/user/Documents/BOA 데이터/boa2411.xlsx')\n",
    "boa2411.loc[boa2411['구분3']=='WORKS DRIVE','구분3'] = 'WORKBOX'\n",
    "merge['회원번호'] = merge['회원번호'].astype(str)\n",
    "boa2411['회원번호'] = boa2411['회원번호'].astype(str)\n",
    "a = pd.merge(merge,boa2411,on = ['회원번호','구분3'], how = 'outer')"
   ]
  },
  {
   "cell_type": "code",
   "execution_count": 11,
   "id": "5dd6d472-989c-44d4-a64d-29027673d6bb",
   "metadata": {},
   "outputs": [],
   "source": [
    "boa2410 = pd.read_excel('/Users/user/Documents/BOA 데이터/boa2410.xlsx')\n",
    "boa2410.loc[boa2410['구분3']=='WORKS DRIVE','구분3'] = 'WORKBOX'\n",
    "boa2410.loc[boa2410['상품명']=='웍스 드라이브 문서 공동 편집','구분3'] = 'NAVER WORKS'\n",
    "merge['회원번호'] = merge['회원번호'].astype(str)\n",
    "boa2410['회원번호'] = boa2410['회원번호'].astype(str)\n",
    "a = pd.merge(merge, boa2410, how = 'outer', on = ['회원번호','구분3'])"
   ]
  },
  {
   "cell_type": "code",
   "execution_count": 39,
   "id": "f91f42c5-74a6-4196-a05a-23175f96a3bb",
   "metadata": {},
   "outputs": [],
   "source": [
    "a.to_excel('/Users/user/Documents/업무문서/boa_ncd_매출비교11.xlsx', index=False)"
   ]
  },
  {
   "cell_type": "code",
   "execution_count": 40,
   "id": "951fa88d-1b43-4ac1-a801-d9dedbeabd5d",
   "metadata": {},
   "outputs": [
    {
     "data": {
      "text/plain": [
       "2044982919.176172"
      ]
     },
     "execution_count": 40,
     "metadata": {},
     "output_type": "execute_result"
    }
   ],
   "source": [
    "merge['예상월매출'].sum()"
   ]
  },
  {
   "cell_type": "code",
   "execution_count": null,
   "id": "c5836c5e-1ee8-4f75-95e2-37f35ce78c2f",
   "metadata": {},
   "outputs": [],
   "source": []
  }
 ],
 "metadata": {
  "kernelspec": {
   "display_name": "Python 3 (ipykernel)",
   "language": "python",
   "name": "python3"
  },
  "language_info": {
   "codemirror_mode": {
    "name": "ipython",
    "version": 3
   },
   "file_extension": ".py",
   "mimetype": "text/x-python",
   "name": "python",
   "nbconvert_exporter": "python",
   "pygments_lexer": "ipython3",
   "version": "3.12.4"
  }
 },
 "nbformat": 4,
 "nbformat_minor": 5
}
