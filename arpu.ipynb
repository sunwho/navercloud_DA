{
 "cells": [
  {
   "cell_type": "code",
   "execution_count": 1,
   "id": "25bf3f71-9c07-45f9-b1dc-20946443aac7",
   "metadata": {},
   "outputs": [],
   "source": [
    "import pandas as pd\n",
    "import numpy as np\n",
    "import matplotlib.pyplot as plt\n",
    "import re\n",
    "plt.rcParams['font.family'] = 'AppleGothic'"
   ]
  },
  {
   "cell_type": "code",
   "execution_count": 2,
   "id": "d4d7299d-7fb6-47ee-a2a2-d35d1126ec08",
   "metadata": {},
   "outputs": [],
   "source": [
    "boa2201 = pd.read_excel('/Users/user/Documents/BOA 데이터/boa2201.xlsx')\n",
    "boa2202 = pd.read_excel('/Users/user/Documents/BOA 데이터/boa2202.xlsx')\n",
    "boa2203 = pd.read_excel('/Users/user/Documents/BOA 데이터/boa2203.xlsx')\n",
    "boa2204 = pd.read_excel('/Users/user/Documents/BOA 데이터/boa2204.xlsx')\n",
    "boa2205 = pd.read_excel('/Users/user/Documents/BOA 데이터/boa2205.xlsx')\n",
    "boa2206 = pd.read_excel('/Users/user/Documents/BOA 데이터/boa2206.xlsx')\n",
    "boa2207 = pd.read_excel('/Users/user/Documents/BOA 데이터/boa2207.xlsx')\n",
    "boa2208 = pd.read_excel('/Users/user/Documents/BOA 데이터/boa2208.xlsx')\n",
    "boa2209 = pd.read_excel('/Users/user/Documents/BOA 데이터/boa2209.xlsx')\n",
    "boa2210 = pd.read_excel('/Users/user/Documents/BOA 데이터/boa2210.xlsx')\n",
    "boa2211 = pd.read_excel('/Users/user/Documents/BOA 데이터/boa2211.xlsx')\n",
    "boa2212 = pd.read_excel('/Users/user/Documents/BOA 데이터/boa2212.xlsx')\n",
    "boa2301 = pd.read_excel('/Users/user/Documents/BOA 데이터/boa2301.xlsx')\n",
    "boa2302 = pd.read_excel('/Users/user/Documents/BOA 데이터/boa2302.xlsx')\n",
    "boa2303 = pd.read_excel('/Users/user/Documents/BOA 데이터/boa2303.xlsx')\n",
    "boa2304 = pd.read_excel('/Users/user/Documents/BOA 데이터/boa2304.xlsx')\n",
    "boa2305 = pd.read_excel('/Users/user/Documents/BOA 데이터/boa2305.xlsx')\n",
    "boa2306 = pd.read_excel('/Users/user/Documents/BOA 데이터/boa2306.xlsx')\n",
    "boa2307 = pd.read_excel('/Users/user/Documents/BOA 데이터/boa2307.xlsx')\n",
    "boa2308 = pd.read_excel('/Users/user/Documents/BOA 데이터/boa2308.xlsx')\n",
    "boa2309 = pd.read_excel('/Users/user/Documents/BOA 데이터/boa2309.xlsx')\n",
    "boa2310 = pd.read_excel('/Users/user/Documents/BOA 데이터/boa2310.xlsx')\n",
    "boa2311 = pd.read_excel('/Users/user/Documents/BOA 데이터/boa2311.xlsx')\n",
    "boa2312 = pd.read_excel('/Users/user/Documents/BOA 데이터/boa2312.xlsx')\n",
    "boa2401 = pd.read_excel('/Users/user/Documents/BOA 데이터/boa2401.xlsx')\n",
    "boa2402 = pd.read_excel('/Users/user/Documents/BOA 데이터/boa2402.xlsx')\n",
    "boa2403 = pd.read_excel('/Users/user/Documents/BOA 데이터/boa2403.xlsx')\n",
    "boa2404 = pd.read_excel('/Users/user/Documents/BOA 데이터/boa2404.xlsx')\n",
    "boa2405 = pd.read_excel('/Users/user/Documents/BOA 데이터/boa2405.xlsx')\n",
    "boa2406 = pd.read_excel('/Users/user/Documents/BOA 데이터/boa2406.xlsx')\n",
    "boa2407 = pd.read_excel('/Users/user/Documents/BOA 데이터/boa2407.xlsx')\n",
    "boa2408 = pd.read_excel('/Users/user/Documents/BOA 데이터/boa2408.xlsx')\n",
    "boa2409 = pd.read_excel('/Users/user/Documents/BOA 데이터/boa2409.xlsx')\n",
    "boa2410 = pd.read_excel('/Users/user/Documents/BOA 데이터/boa2410.xlsx')\n",
    "boa2411 = pd.read_excel('/Users/user/Documents/BOA 데이터/boa2411.xlsx')"
   ]
  },
  {
   "cell_type": "code",
   "execution_count": 75,
   "id": "85aea38c-147d-4cda-a45b-06066567980b",
   "metadata": {},
   "outputs": [],
   "source": [
    "boa2411 = boa2411.rename(columns={'매출금액':'매출금액(당월)','이용금액':'이용금액(당월)'})"
   ]
  },
  {
   "cell_type": "code",
   "execution_count": 77,
   "id": "9a6d40d7-dbfa-499c-a69e-3802743086ed",
   "metadata": {},
   "outputs": [],
   "source": [
    "boa = [boa2201, boa2202, boa2203, boa2204, boa2205, boa2206, boa2207, boa2208, boa2209, boa2210, boa2211, boa2212, \n",
    "       boa2301, boa2302, boa2303, boa2304, boa2305, boa2306, boa2307, boa2308, boa2309, boa2310, boa2311, boa2312, \n",
    "       boa2401, boa2402, boa2403, boa2404, boa2405, boa2406, boa2407, boa2408, boa2409, boa2410, boa2411]"
   ]
  },
  {
   "cell_type": "code",
   "execution_count": 79,
   "id": "4820534c-7f92-4e1a-83db-80bba8b76fcd",
   "metadata": {},
   "outputs": [],
   "source": [
    "for i in range(0,len(boa)) :\n",
    "    boa[i] = boa[i][boa[i]['구분3']=='NAVER WORKS']"
   ]
  },
  {
   "cell_type": "code",
   "execution_count": 80,
   "id": "670a0edd-38a8-43d6-98c8-54a32f9248f4",
   "metadata": {},
   "outputs": [],
   "source": [
    "def delete_domain (df) :\n",
    "    df = df[df['플랫폼']!='공공']\n",
    "    return df\n",
    "\n",
    "for i in range(0, len(boa)) :\n",
    "    boa[i] = delete_domain(boa[i])"
   ]
  },
  {
   "cell_type": "code",
   "execution_count": 89,
   "id": "3456d2a6-a528-4e88-a91a-88f9f270f1ef",
   "metadata": {},
   "outputs": [],
   "source": [
    "od1 = []\n",
    "pt1 = []\n",
    "od2 = []\n",
    "pt2 = []\n",
    "\n",
    "for i in range(0, len(boa)) :\n",
    "    od1.append(boa[i][boa[i]['채널']!='파트너 매출']['매출금액(당월)'].sum())\n",
    "    pt1.append(boa[i][boa[i]['채널']=='파트너 매출']['매출금액(당월)'].sum())\n",
    "    od2.append(boa[i][boa[i]['채널']!='파트너 매출']['이용금액(당월)'].sum())\n",
    "    pt2.append(boa[i][boa[i]['채널']=='파트너 매출']['이용금액(당월)'].sum())"
   ]
  },
  {
   "cell_type": "code",
   "execution_count": 90,
   "id": "4530ebb8-c89c-4e78-9a74-7945f350215d",
   "metadata": {},
   "outputs": [],
   "source": [
    "a = pd.DataFrame([od1,pt1,od2,pt2])"
   ]
  },
  {
   "cell_type": "code",
   "execution_count": 93,
   "id": "4a16714c-3aa7-4057-8659-c48025ada724",
   "metadata": {},
   "outputs": [],
   "source": [
    "a.to_excel('/Users/user/Documents/진행중 업무/odpt_id.xlsx',index=False)"
   ]
  },
  {
   "cell_type": "code",
   "execution_count": null,
   "id": "e5ef56b4-1402-4c3d-8fd7-e131c583cd2e",
   "metadata": {},
   "outputs": [],
   "source": []
  }
 ],
 "metadata": {
  "kernelspec": {
   "display_name": "Python 3 (ipykernel)",
   "language": "python",
   "name": "python3"
  },
  "language_info": {
   "codemirror_mode": {
    "name": "ipython",
    "version": 3
   },
   "file_extension": ".py",
   "mimetype": "text/x-python",
   "name": "python",
   "nbconvert_exporter": "python",
   "pygments_lexer": "ipython3",
   "version": "3.12.4"
  }
 },
 "nbformat": 4,
 "nbformat_minor": 5
}
