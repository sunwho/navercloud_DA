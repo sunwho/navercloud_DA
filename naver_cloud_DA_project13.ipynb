{
 "cells": [
  {
   "cell_type": "code",
   "execution_count": 1,
   "id": "b3a2a1b3-ad3e-4af5-92a7-80e8418a0c1d",
   "metadata": {},
   "outputs": [
    {
     "name": "stdout",
     "output_type": "stream",
     "text": [
      "Requirement already satisfied: xlsxwriter in /opt/anaconda3/lib/python3.12/site-packages (3.2.0)\n"
     ]
    }
   ],
   "source": [
    "!pip install xlsxwriter"
   ]
  },
  {
   "cell_type": "code",
   "execution_count": 2,
   "id": "153e5a2f-8d0f-4e95-bba6-903cbbe91c07",
   "metadata": {},
   "outputs": [],
   "source": [
    "import pandas as pd\n",
    "import numpy as np\n",
    "import matplotlib.pyplot as plt\n",
    "import re"
   ]
  },
  {
   "cell_type": "code",
   "execution_count": 3,
   "id": "18011a93-60fd-4faf-9820-b3d71f28b975",
   "metadata": {},
   "outputs": [],
   "source": [
    "ncd_app8 = pd.read_excel('/Users/user/Documents/NCD 데이터/ncd_app8.xlsx')\n",
    "ncd_att8 = pd.read_excel('/Users/user/Documents/NCD 데이터/ncd_att8.xlsx')\n",
    "ncd_box = pd.read_excel('/Users/user/Documents/NCD 데이터/ncd_box8.xlsx')\n",
    "ncd_corlt8 = pd.read_excel('/Users/user/Documents/NCD 데이터/ncd_corlt8.xlsx')\n",
    "ncd_corstd8 = pd.read_excel('/Users/user/Documents/NCD 데이터/ncd_corstd8.xlsx')\n",
    "ncd_corstdp8 = pd.read_excel('/Users/user/Documents/NCD 데이터/ncd_corstdp8.xlsx')\n",
    "ncd_cort8 = pd.read_excel('/Users/user/Documents/NCD 데이터/ncd_cort8.xlsx')\n",
    "ncd_drv8 = pd.read_excel('/Users/user/Documents/NCD 데이터/ncd_drv8.xlsx')\n",
    "ncd_fin8 = pd.read_excel('/Users/user/Documents/NCD 데이터/ncd_fin8.xlsx')\n",
    "ncd_pay8 = pd.read_excel('/Users/user/Documents/NCD 데이터/ncd_pay8.xlsx')"
   ]
  },
  {
   "cell_type": "code",
   "execution_count": 181,
   "id": "392b4399-3867-475c-a0e1-c29dd782b911",
   "metadata": {},
   "outputs": [],
   "source": [
    "ncd_box['사용량'] = ncd_box['상품사이즈']\n",
    "ncd_box['사용량'] = ncd_box['사용량'].fillna(0)\n",
    "ncd8 = pd.concat([ncd_app8, ncd_att8, ncd_box, ncd_corlt8, ncd_corstd8, ncd_corstdp8, ncd_cort8, ncd_drv8, ncd_fin8, ncd_pay8])\n",
    "ncd8 = ncd8.reset_index(drop=True)\n",
    "ncd8 = ncd8[ncd8['사용량'] != 0]\n",
    "ncd8 = ncd8[ncd8['요금'] != 0]\n",
    "ncd8 = ncd8[ncd8['회원그룹명'] != '내부회원']"
   ]
  },
  {
   "cell_type": "code",
   "execution_count": 183,
   "id": "62807e9f-547a-4431-b39b-c433717d0a78",
   "metadata": {},
   "outputs": [],
   "source": [
    "ncd8['구분1'] = 'Business Application'\n",
    "ncd8['구분2'] = 'Business Applications'\n",
    "ncd8['구분3'] = ncd8['인스턴스유형코드명']\n",
    "ncd8['상품명'] = ncd8['미터링유형코드명']\n",
    "ncd8['플랫폼'] = '민간'\n",
    "ncd8['리전명_y'] = '한국'\n",
    "ncd8['리전번호_y'] = 1"
   ]
  },
  {
   "cell_type": "code",
   "execution_count": 185,
   "id": "617c20f5-0f32-4c39-bf77-8ecc13d03632",
   "metadata": {},
   "outputs": [],
   "source": [
    "def domain_class(group):\n",
    "    if ((group == 20240701).any() and (group == 20240731).any()):\n",
    "        return '기존' \n",
    "    elif ((group != 20240701).all() and (group != 20240731).all()):\n",
    "        return '신규/이탈'\n",
    "    elif (group != 20240701).all():\n",
    "        return '신규'\n",
    "    elif (group != 20240731).all():\n",
    "        return '이탈'\n",
    "    else :\n",
    "        return '기타'\n",
    "\n",
    "\n",
    "ncd8['회원구분'] = ncd8.groupby(['회원번호', '미터링유형코드명'])['미터링일시'].transform(lambda x: domain_class(x))"
   ]
  },
  {
   "cell_type": "code",
   "execution_count": 189,
   "id": "c34924de-1dfd-442e-98f7-0a06e105cb68",
   "metadata": {},
   "outputs": [],
   "source": [
    "ncd8['dayCount'] = ncd8.groupby(['회원번호', '미터링유형코드명'])['회원번호'].transform('size')\n",
    "ncd8['paid user 여부'] = ncd8['요금'].apply(lambda x : 'trial' if x == 0 else 'paid')\n",
    "ncd8['약정할인금액'] = np.where(\n",
    "    (ncd8['미터링유형코드명'].isin(['웍스 코어 Standard Plus'])) & (ncd8['약정여부'] == 'Y'), \n",
    "    2000, \n",
    "    np.where(\n",
    "        (ncd8['미터링유형코드명'].isin(['웍스 코어 Lite','웍스 코어 Standard','웍스 드라이브 Lite','웍스 드라이브 Standard','웍스 드라이브 Standard Plus'])) & (ncd8['약정여부'] == 'Y'), \n",
    "        1000,\n",
    "        np.where(\n",
    "            (ncd8['미터링유형코드명'].isin(['웍스 급여'])) & (ncd8['약정여부'] == 'Y'), \n",
    "            1500,\n",
    "            np.where(\n",
    "                (ncd8['미터링유형코드명'].isin(['웍스 결재'])) & (ncd8['약정여부'] == 'Y'), \n",
    "                1000, \n",
    "                np.where(\n",
    "                    (ncd8['미터링유형코드명'].isin(['웍스 근태','웍스 재무'])) & (ncd8['약정여부'] == 'Y'), \n",
    "                    50,\n",
    "                    np.where(\n",
    "                        (ncd8['미터링유형코드명'].isin(['웍스 코어 Lite','웍스 코어 Standard','웍스 코어 Standard Plus','웍스 드라이브 Lite','웍스 드라이브 Standard','웍스 드라이브 Standard Plus','웍스 결재','웍스 근태','웍스 재무','웍스 급여'])) & (ncd8['약정여부'] == 'N'), \n",
    "                        0, \n",
    "                        0\n",
    "                    )\n",
    "                )\n",
    "            )\n",
    "        )\n",
    "    )\n",
    ")\n",
    "ncd8['미터링일시'] = ncd8['미터링일시'].astype(str)\n",
    "ncd8['월별일수'] = np.where(\n",
    "    ncd8['미터링일시'].str[4:6].isin(['01', '03', '05', '07', '08', '10', '12']),\n",
    "    31,\n",
    "    np.where(\n",
    "        ncd8['미터링일시'].str[4:6].isin(['04', '06', '09', '11']),\n",
    "        30,\n",
    "        np.where(\n",
    "            (ncd8['미터링일시'].str[0:4].astype(int) % 4 == 0),\n",
    "            29, \n",
    "            28\n",
    "        )\n",
    "    )\n",
    ")\n",
    "\n",
    "ncd8['일요금(당일)'] = (ncd8['요금']/ncd8['월별일수'])*ncd8['사용량']\n",
    "ncd8['약정할인 후 요금'] = ncd8['요금'] - ncd8['약정할인금액']\n",
    "ncd8['약정할인율'] = ncd8['약정할인금액']/ncd8['요금']\n",
    "ncd8['결합할인 여부'] = 'Y'\n",
    "ncd8.loc[ncd8['미터링유형코드명'].isin(['웍스 근태', '웍스 재무', '웍스 급여']), '결합할인 여부'] = 'N'\n",
    "ncd8['결합할인 여부'] = np.where(\n",
    "    (ncd8.duplicated(subset=['회원번호','미터링일시','paid user 여부','약정여부','결합할인 여부'], keep=False)) & (ncd8['paid user 여부'] == 'paid') & (ncd8['약정여부'] == 'Y') & (ncd8['결합할인 여부'] == 'Y'),\n",
    "    'Y',\n",
    "    'N')\n",
    "ncd8.loc[ncd8['약정여부'] == 'N', '결합할인 여부'] = 'N'\n",
    "ncd8['미터링일시'] = ncd8['미터링일시'].astype(str)\n",
    "ncd8['일매출(당일)'] = np.where(\n",
    "    (ncd8['결합할인 여부'] == 'Y'),\n",
    "    ((ncd8['요금']/ncd8['월별일수'])*ncd8['사용량']*(1-ncd8['약정할인율']))*0.9,\n",
    "    (ncd8['요금']/ncd8['월별일수'])*ncd8['사용량']*(1-ncd8['약정할인율']))"
   ]
  },
  {
   "cell_type": "code",
   "execution_count": 190,
   "id": "1a389bd7-8e22-4e28-96cb-ef1d2fb4b71e",
   "metadata": {},
   "outputs": [],
   "source": [
    "ncd8 = ncd8.sort_values(by=['회원번호', '미터링유형코드명', '미터링일시'])\n",
    "ncd8['일매출(전일)'] = ncd8.groupby(['회원번호', '미터링유형코드명'])['일매출(당일)'].shift(1)\n",
    "ncd8['일매출 증가율'] = ((ncd8['일매출(당일)'] - ncd8['일매출(전일)']) / ncd8['일매출(전일)'])\n",
    "ncd8['누적 일매출'] = ncd8.groupby(['회원번호', '미터링유형코드명'])['일매출(당일)'].cumsum()\n",
    "ncd8['월매출(당월)'] = ncd8.groupby(['회원번호', '미터링유형코드명'])['일매출(당일)'].transform('sum')\n",
    "ncd8['월요금(당월)'] = ncd8.groupby(['회원번호', '미터링유형코드명'])['일요금(당일)'].transform('sum')\n",
    "ncd8 = ncd8.drop(['dayCount'], axis = 1)\n",
    "ncd8 = ncd8.sort_values(by=['회원번호', '미터링유형코드명', '미터링일시'], ascending = [True, False, True])\n",
    "ncd8 = ncd8.reset_index(drop=True)\n",
    "#파트너\n",
    "#ncd8.loc[ncd8['파트너사회원번호']=='파트너회원', '월매출(당월)'] = ncd8.loc[ncd8['회원그룹명']=='파트너회원', '월매출(당월)'] * 0.7\n"
   ]
  },
  {
   "cell_type": "code",
   "execution_count": 195,
   "id": "a8e3486e-289c-4f09-8ed2-955b9807ef48",
   "metadata": {},
   "outputs": [],
   "source": [
    "ncd8.loc[ncd8['미터링유형코드명'].str[:5] == '웍스 드라', '청구유형코드명'] = 'WORKBOX'\n",
    "ncd8.loc[ncd8['미터링유형코드명'].isin(['웍스 결재','웍스 근태','웍스 재무','웍스 급여']), '청구유형코드명'] = 'WORKPLACE'\n",
    "ncd8 = ncd8[['회원번호','파트너사회원번호','회원그룹코드','청구유형코드명','미터링유형코드명','미터링일시','사용량','약정여부','월매출(당월)','월요금(당월)']]"
   ]
  },
  {
   "cell_type": "code",
   "execution_count": 152,
   "id": "c0d075c4-1639-4048-a244-a5b68e47f078",
   "metadata": {},
   "outputs": [
    {
     "data": {
      "text/plain": [
       "array(['NAVER WORKS', 'WORKPLACE', 'WORKBOX'], dtype=object)"
      ]
     },
     "execution_count": 152,
     "metadata": {},
     "output_type": "execute_result"
    }
   ],
   "source": [
    "ncd8['청구유형코드명'].unique()"
   ]
  },
  {
   "cell_type": "code",
   "execution_count": 153,
   "id": "934d54b2-0269-4c3f-b128-16880a2e800a",
   "metadata": {},
   "outputs": [
    {
     "data": {
      "text/html": [
       "<div>\n",
       "<style scoped>\n",
       "    .dataframe tbody tr th:only-of-type {\n",
       "        vertical-align: middle;\n",
       "    }\n",
       "\n",
       "    .dataframe tbody tr th {\n",
       "        vertical-align: top;\n",
       "    }\n",
       "\n",
       "    .dataframe thead th {\n",
       "        text-align: right;\n",
       "    }\n",
       "</style>\n",
       "<table border=\"1\" class=\"dataframe\">\n",
       "  <thead>\n",
       "    <tr style=\"text-align: right;\">\n",
       "      <th></th>\n",
       "      <th>회원번호</th>\n",
       "      <th>파트너사회원번호</th>\n",
       "      <th>회원그룹코드</th>\n",
       "      <th>청구유형코드명</th>\n",
       "      <th>미터링유형코드명</th>\n",
       "      <th>미터링일시</th>\n",
       "      <th>사용량</th>\n",
       "      <th>약정여부</th>\n",
       "      <th>월매출(당월)</th>\n",
       "      <th>월요금(당월)</th>\n",
       "    </tr>\n",
       "  </thead>\n",
       "  <tbody>\n",
       "    <tr>\n",
       "      <th>0</th>\n",
       "      <td>734</td>\n",
       "      <td>NaN</td>\n",
       "      <td>GEN</td>\n",
       "      <td>NAVER WORKS</td>\n",
       "      <td>웍스 코어 Lite</td>\n",
       "      <td>20240801</td>\n",
       "      <td>35.0</td>\n",
       "      <td>Y</td>\n",
       "      <td>105000.000000</td>\n",
       "      <td>140000.000000</td>\n",
       "    </tr>\n",
       "    <tr>\n",
       "      <th>1</th>\n",
       "      <td>734</td>\n",
       "      <td>NaN</td>\n",
       "      <td>GEN</td>\n",
       "      <td>NAVER WORKS</td>\n",
       "      <td>웍스 코어 Lite</td>\n",
       "      <td>20240802</td>\n",
       "      <td>35.0</td>\n",
       "      <td>Y</td>\n",
       "      <td>105000.000000</td>\n",
       "      <td>140000.000000</td>\n",
       "    </tr>\n",
       "    <tr>\n",
       "      <th>2</th>\n",
       "      <td>734</td>\n",
       "      <td>NaN</td>\n",
       "      <td>GEN</td>\n",
       "      <td>NAVER WORKS</td>\n",
       "      <td>웍스 코어 Lite</td>\n",
       "      <td>20240803</td>\n",
       "      <td>35.0</td>\n",
       "      <td>Y</td>\n",
       "      <td>105000.000000</td>\n",
       "      <td>140000.000000</td>\n",
       "    </tr>\n",
       "    <tr>\n",
       "      <th>3</th>\n",
       "      <td>734</td>\n",
       "      <td>NaN</td>\n",
       "      <td>GEN</td>\n",
       "      <td>NAVER WORKS</td>\n",
       "      <td>웍스 코어 Lite</td>\n",
       "      <td>20240804</td>\n",
       "      <td>35.0</td>\n",
       "      <td>Y</td>\n",
       "      <td>105000.000000</td>\n",
       "      <td>140000.000000</td>\n",
       "    </tr>\n",
       "    <tr>\n",
       "      <th>4</th>\n",
       "      <td>734</td>\n",
       "      <td>NaN</td>\n",
       "      <td>GEN</td>\n",
       "      <td>NAVER WORKS</td>\n",
       "      <td>웍스 코어 Lite</td>\n",
       "      <td>20240805</td>\n",
       "      <td>35.0</td>\n",
       "      <td>Y</td>\n",
       "      <td>105000.000000</td>\n",
       "      <td>140000.000000</td>\n",
       "    </tr>\n",
       "    <tr>\n",
       "      <th>...</th>\n",
       "      <td>...</td>\n",
       "      <td>...</td>\n",
       "      <td>...</td>\n",
       "      <td>...</td>\n",
       "      <td>...</td>\n",
       "      <td>...</td>\n",
       "      <td>...</td>\n",
       "      <td>...</td>\n",
       "      <td>...</td>\n",
       "      <td>...</td>\n",
       "    </tr>\n",
       "    <tr>\n",
       "      <th>1065553</th>\n",
       "      <td>3396626</td>\n",
       "      <td>2552351.0</td>\n",
       "      <td>PATR</td>\n",
       "      <td>NAVER WORKS</td>\n",
       "      <td>웍스 코어 Standard Plus</td>\n",
       "      <td>20240830</td>\n",
       "      <td>1.0</td>\n",
       "      <td>N</td>\n",
       "      <td>838.709677</td>\n",
       "      <td>838.709677</td>\n",
       "    </tr>\n",
       "    <tr>\n",
       "      <th>1065554</th>\n",
       "      <td>3396626</td>\n",
       "      <td>2552351.0</td>\n",
       "      <td>PATR</td>\n",
       "      <td>NAVER WORKS</td>\n",
       "      <td>웍스 코어 Standard Plus</td>\n",
       "      <td>20240831</td>\n",
       "      <td>1.0</td>\n",
       "      <td>N</td>\n",
       "      <td>838.709677</td>\n",
       "      <td>838.709677</td>\n",
       "    </tr>\n",
       "    <tr>\n",
       "      <th>1065555</th>\n",
       "      <td>3397774</td>\n",
       "      <td>NaN</td>\n",
       "      <td>GEN</td>\n",
       "      <td>NAVER WORKS</td>\n",
       "      <td>웍스 코어 Standard</td>\n",
       "      <td>20240830</td>\n",
       "      <td>3.0</td>\n",
       "      <td>Y</td>\n",
       "      <td>1451.612903</td>\n",
       "      <td>1645.161290</td>\n",
       "    </tr>\n",
       "    <tr>\n",
       "      <th>1065556</th>\n",
       "      <td>3397774</td>\n",
       "      <td>NaN</td>\n",
       "      <td>GEN</td>\n",
       "      <td>NAVER WORKS</td>\n",
       "      <td>웍스 코어 Standard</td>\n",
       "      <td>20240831</td>\n",
       "      <td>3.0</td>\n",
       "      <td>Y</td>\n",
       "      <td>1451.612903</td>\n",
       "      <td>1645.161290</td>\n",
       "    </tr>\n",
       "    <tr>\n",
       "      <th>1065557</th>\n",
       "      <td>3397774</td>\n",
       "      <td>NaN</td>\n",
       "      <td>GEN</td>\n",
       "      <td>NAVER WORKS</td>\n",
       "      <td>웍스 코어 Lite</td>\n",
       "      <td>20240829</td>\n",
       "      <td>3.0</td>\n",
       "      <td>Y</td>\n",
       "      <td>290.322581</td>\n",
       "      <td>387.096774</td>\n",
       "    </tr>\n",
       "  </tbody>\n",
       "</table>\n",
       "<p>1065558 rows × 10 columns</p>\n",
       "</div>"
      ],
      "text/plain": [
       "            회원번호   파트너사회원번호 회원그룹코드      청구유형코드명             미터링유형코드명  \\\n",
       "0            734        NaN    GEN  NAVER WORKS           웍스 코어 Lite   \n",
       "1            734        NaN    GEN  NAVER WORKS           웍스 코어 Lite   \n",
       "2            734        NaN    GEN  NAVER WORKS           웍스 코어 Lite   \n",
       "3            734        NaN    GEN  NAVER WORKS           웍스 코어 Lite   \n",
       "4            734        NaN    GEN  NAVER WORKS           웍스 코어 Lite   \n",
       "...          ...        ...    ...          ...                  ...   \n",
       "1065553  3396626  2552351.0   PATR  NAVER WORKS  웍스 코어 Standard Plus   \n",
       "1065554  3396626  2552351.0   PATR  NAVER WORKS  웍스 코어 Standard Plus   \n",
       "1065555  3397774        NaN    GEN  NAVER WORKS       웍스 코어 Standard   \n",
       "1065556  3397774        NaN    GEN  NAVER WORKS       웍스 코어 Standard   \n",
       "1065557  3397774        NaN    GEN  NAVER WORKS           웍스 코어 Lite   \n",
       "\n",
       "            미터링일시   사용량 약정여부        월매출(당월)        월요금(당월)  \n",
       "0        20240801  35.0    Y  105000.000000  140000.000000  \n",
       "1        20240802  35.0    Y  105000.000000  140000.000000  \n",
       "2        20240803  35.0    Y  105000.000000  140000.000000  \n",
       "3        20240804  35.0    Y  105000.000000  140000.000000  \n",
       "4        20240805  35.0    Y  105000.000000  140000.000000  \n",
       "...           ...   ...  ...            ...            ...  \n",
       "1065553  20240830   1.0    N     838.709677     838.709677  \n",
       "1065554  20240831   1.0    N     838.709677     838.709677  \n",
       "1065555  20240830   3.0    Y    1451.612903    1645.161290  \n",
       "1065556  20240831   3.0    Y    1451.612903    1645.161290  \n",
       "1065557  20240829   3.0    Y     290.322581     387.096774  \n",
       "\n",
       "[1065558 rows x 10 columns]"
      ]
     },
     "execution_count": 153,
     "metadata": {},
     "output_type": "execute_result"
    }
   ],
   "source": [
    "ncd8"
   ]
  },
  {
   "cell_type": "code",
   "execution_count": 154,
   "id": "905e18f0-f43e-4508-bff3-ebdc0bf154a5",
   "metadata": {},
   "outputs": [],
   "source": [
    "# ncd8.to_excel('/Users/user/Documents/업무문서/ncdd8.xlsx',index=False)"
   ]
  },
  {
   "cell_type": "code",
   "execution_count": 217,
   "id": "828e900a-3439-4543-a6ea-277917366b67",
   "metadata": {},
   "outputs": [],
   "source": [
    "ncd8_unique = ncd8.drop_duplicates(subset=['회원번호', '미터링유형코드명'], keep='first').reset_index(drop=True)"
   ]
  },
  {
   "cell_type": "code",
   "execution_count": 157,
   "id": "9f3176e3-1bfe-49a3-8cc3-6f784dd76ab3",
   "metadata": {},
   "outputs": [],
   "source": [
    "ncd8_unique.to_excel('/Users/user/Documents/업무문서/ncdd8.xlsx',index=False)"
   ]
  },
  {
   "cell_type": "code",
   "execution_count": 203,
   "id": "3ec0557e-afc8-4c8d-8af2-d3a19f4d7fbb",
   "metadata": {},
   "outputs": [],
   "source": [
    "boa8 = pd.read_excel('/Users/user/Documents/BOA 데이터/boa8.xlsx')\n",
    "boa8 = boa8.drop(0)\n",
    "ncd8_unique['회원번호'] = ncd8_unique['회원번호'].astype(int)\n",
    "boa8['회원번호'] = boa8['회원번호'].astype(int)\n",
    "boa8 = boa8.groupby(['회원번호','회원명','구분3','파트너명','채널'])[['매출금액(당월)','이용금액(당월)']].sum().reset_index()"
   ]
  },
  {
   "cell_type": "code",
   "execution_count": 225,
   "id": "f4942078-c951-44b7-afdb-5c787949027c",
   "metadata": {},
   "outputs": [
    {
     "data": {
      "text/html": [
       "<div>\n",
       "<style scoped>\n",
       "    .dataframe tbody tr th:only-of-type {\n",
       "        vertical-align: middle;\n",
       "    }\n",
       "\n",
       "    .dataframe tbody tr th {\n",
       "        vertical-align: top;\n",
       "    }\n",
       "\n",
       "    .dataframe thead th {\n",
       "        text-align: right;\n",
       "    }\n",
       "</style>\n",
       "<table border=\"1\" class=\"dataframe\">\n",
       "  <thead>\n",
       "    <tr style=\"text-align: right;\">\n",
       "      <th></th>\n",
       "      <th>회원번호</th>\n",
       "      <th>구분3</th>\n",
       "      <th>월매출(당월)</th>\n",
       "      <th>월요금(당월)</th>\n",
       "      <th>파트너사회원번호</th>\n",
       "    </tr>\n",
       "  </thead>\n",
       "  <tbody>\n",
       "    <tr>\n",
       "      <th>23534</th>\n",
       "      <td>2895255</td>\n",
       "      <td>NAVER WORKS</td>\n",
       "      <td>5.501282e+08</td>\n",
       "      <td>6.418162e+08</td>\n",
       "      <td>NaN</td>\n",
       "    </tr>\n",
       "  </tbody>\n",
       "</table>\n",
       "</div>"
      ],
      "text/plain": [
       "          회원번호          구분3       월매출(당월)       월요금(당월)  파트너사회원번호\n",
       "23534  2895255  NAVER WORKS  5.501282e+08  6.418162e+08       NaN"
      ]
     },
     "execution_count": 225,
     "metadata": {},
     "output_type": "execute_result"
    }
   ],
   "source": [
    "ncd8_unique[ncd8_unique['회원번호']==2895255]"
   ]
  },
  {
   "cell_type": "code",
   "execution_count": 223,
   "id": "23aad9e5-7a60-4907-83cf-a67169525d35",
   "metadata": {},
   "outputs": [
    {
     "data": {
      "text/plain": [
       "array(['NAVER WORKS', 'WORKPLACE', 'WORKBOX'], dtype=object)"
      ]
     },
     "execution_count": 223,
     "metadata": {},
     "output_type": "execute_result"
    }
   ],
   "source": [
    "ncd8_unique.columns = ['회원번호','파트너사회원번호','회원그룹코드','구분3','미터링유형코드명','미터링일시','사용량','약정여부','월매출(당월)','월요금(당월)']\n",
    "ncd8_unique1 = ncd8_unique.groupby(['회원번호','구분3'])[['월매출(당월)','월요금(당월)']].sum().reset_index()\n",
    "ncd8_unique = pd.merge(ncd8_unique1, ncd8_unique[['회원번호','구분3','파트너사회원번호']], how = 'left', on = ['회원번호','구분3'])\n",
    "ncd8_unique['구분3'].unique()"
   ]
  },
  {
   "cell_type": "code",
   "execution_count": 227,
   "id": "507496c2-9e49-418f-966c-b5f3e5b59fa7",
   "metadata": {},
   "outputs": [],
   "source": [
    "no_boa8 = ncd8_unique[~ncd8_unique['회원번호'].isin(boa8['회원번호'])]\n",
    "ncd8_unique = ncd8_unique[ncd8_unique['회원번호'].isin(boa8['회원번호'])]"
   ]
  },
  {
   "cell_type": "code",
   "execution_count": 229,
   "id": "b4970936-395a-4ae4-9b2d-8787d3815430",
   "metadata": {},
   "outputs": [],
   "source": [
    "no_ncd8 = boa8[~boa8['회원번호'].isin(ncd8_unique['회원번호'])]\n",
    "no_ncd8.to_excel('/Users/user/Documents/업무문서/no_ncd8.xlsx',index=False)"
   ]
  },
  {
   "cell_type": "code",
   "execution_count": 231,
   "id": "b95ed942-9fb5-4232-a023-30efa1da2853",
   "metadata": {},
   "outputs": [],
   "source": [
    "no_boa8.to_excel('/Users/user/Documents/업무문서/no_boa8.xlsx',index=False)"
   ]
  },
  {
   "cell_type": "code",
   "execution_count": 233,
   "id": "63ea332c-eb5c-4290-9062-e32f99706f90",
   "metadata": {},
   "outputs": [],
   "source": [
    "merge8 = pd.merge(ncd8_unique, boa8, how = 'left',on = ['회원번호','구분3'])"
   ]
  },
  {
   "cell_type": "code",
   "execution_count": 235,
   "id": "48d79791-a192-4e13-89bb-8afa02a77231",
   "metadata": {},
   "outputs": [
    {
     "name": "stderr",
     "output_type": "stream",
     "text": [
      "/var/folders/yj/y3b7nzyn7zv0l9bkqtj_37g40000gn/T/ipykernel_134/4167287618.py:4: SettingWithCopyWarning: \n",
      "A value is trying to be set on a copy of a slice from a DataFrame.\n",
      "Try using .loc[row_indexer,col_indexer] = value instead\n",
      "\n",
      "See the caveats in the documentation: https://pandas.pydata.org/pandas-docs/stable/user_guide/indexing.html#returning-a-view-versus-a-copy\n",
      "  pt['파트너할인율'] = 0\n",
      "/var/folders/yj/y3b7nzyn7zv0l9bkqtj_37g40000gn/T/ipykernel_134/4167287618.py:5: FutureWarning: Setting an item of incompatible dtype is deprecated and will raise in a future error of pandas. Value '[1.65196145e-06 7.16501018e-05 0.00000000e+00 ... 6.06060606e-02\n",
      " 1.04444444e-01 7.32600733e-04]' has dtype incompatible with int64, please explicitly cast to a compatible dtype first.\n",
      "  pt.loc[:, '파트너할인율'] = 1 - (pt['BOA월매출'] / pt['NCD예측월매출'])\n"
     ]
    },
    {
     "data": {
      "text/html": [
       "<div>\n",
       "<style scoped>\n",
       "    .dataframe tbody tr th:only-of-type {\n",
       "        vertical-align: middle;\n",
       "    }\n",
       "\n",
       "    .dataframe tbody tr th {\n",
       "        vertical-align: top;\n",
       "    }\n",
       "\n",
       "    .dataframe thead th {\n",
       "        text-align: right;\n",
       "    }\n",
       "</style>\n",
       "<table border=\"1\" class=\"dataframe\">\n",
       "  <thead>\n",
       "    <tr style=\"text-align: right;\">\n",
       "      <th></th>\n",
       "      <th>회원번호</th>\n",
       "      <th>구분3</th>\n",
       "      <th>파트너사회원번호</th>\n",
       "      <th>파트너할인율</th>\n",
       "    </tr>\n",
       "  </thead>\n",
       "  <tbody>\n",
       "    <tr>\n",
       "      <th>2</th>\n",
       "      <td>1084</td>\n",
       "      <td>NAVER WORKS</td>\n",
       "      <td>1702545.0</td>\n",
       "      <td>0.000002</td>\n",
       "    </tr>\n",
       "    <tr>\n",
       "      <th>5</th>\n",
       "      <td>1313</td>\n",
       "      <td>NAVER WORKS</td>\n",
       "      <td>2888202.0</td>\n",
       "      <td>0.000072</td>\n",
       "    </tr>\n",
       "    <tr>\n",
       "      <th>8</th>\n",
       "      <td>1352</td>\n",
       "      <td>NAVER WORKS</td>\n",
       "      <td>2673247.0</td>\n",
       "      <td>0.000000</td>\n",
       "    </tr>\n",
       "    <tr>\n",
       "      <th>9</th>\n",
       "      <td>1404</td>\n",
       "      <td>NAVER WORKS</td>\n",
       "      <td>3816.0</td>\n",
       "      <td>0.000045</td>\n",
       "    </tr>\n",
       "    <tr>\n",
       "      <th>11</th>\n",
       "      <td>1431</td>\n",
       "      <td>NAVER WORKS</td>\n",
       "      <td>2547958.0</td>\n",
       "      <td>0.000004</td>\n",
       "    </tr>\n",
       "    <tr>\n",
       "      <th>...</th>\n",
       "      <td>...</td>\n",
       "      <td>...</td>\n",
       "      <td>...</td>\n",
       "      <td>...</td>\n",
       "    </tr>\n",
       "    <tr>\n",
       "      <th>34098</th>\n",
       "      <td>3382350</td>\n",
       "      <td>NAVER WORKS</td>\n",
       "      <td>2697865.0</td>\n",
       "      <td>0.019853</td>\n",
       "    </tr>\n",
       "    <tr>\n",
       "      <th>34102</th>\n",
       "      <td>3382671</td>\n",
       "      <td>NAVER WORKS</td>\n",
       "      <td>2697865.0</td>\n",
       "      <td>0.046154</td>\n",
       "    </tr>\n",
       "    <tr>\n",
       "      <th>34103</th>\n",
       "      <td>3382775</td>\n",
       "      <td>NAVER WORKS</td>\n",
       "      <td>2697865.0</td>\n",
       "      <td>0.060606</td>\n",
       "    </tr>\n",
       "    <tr>\n",
       "      <th>34104</th>\n",
       "      <td>3382859</td>\n",
       "      <td>NAVER WORKS</td>\n",
       "      <td>2697865.0</td>\n",
       "      <td>0.104444</td>\n",
       "    </tr>\n",
       "    <tr>\n",
       "      <th>34156</th>\n",
       "      <td>3393374</td>\n",
       "      <td>NAVER WORKS</td>\n",
       "      <td>2697865.0</td>\n",
       "      <td>0.000733</td>\n",
       "    </tr>\n",
       "  </tbody>\n",
       "</table>\n",
       "<p>5168 rows × 4 columns</p>\n",
       "</div>"
      ],
      "text/plain": [
       "          회원번호          구분3   파트너사회원번호    파트너할인율\n",
       "2         1084  NAVER WORKS  1702545.0  0.000002\n",
       "5         1313  NAVER WORKS  2888202.0  0.000072\n",
       "8         1352  NAVER WORKS  2673247.0  0.000000\n",
       "9         1404  NAVER WORKS     3816.0  0.000045\n",
       "11        1431  NAVER WORKS  2547958.0  0.000004\n",
       "...        ...          ...        ...       ...\n",
       "34098  3382350  NAVER WORKS  2697865.0  0.019853\n",
       "34102  3382671  NAVER WORKS  2697865.0  0.046154\n",
       "34103  3382775  NAVER WORKS  2697865.0  0.060606\n",
       "34104  3382859  NAVER WORKS  2697865.0  0.104444\n",
       "34156  3393374  NAVER WORKS  2697865.0  0.000733\n",
       "\n",
       "[5168 rows x 4 columns]"
      ]
     },
     "execution_count": 235,
     "metadata": {},
     "output_type": "execute_result"
    }
   ],
   "source": [
    "merge8 = merge8[['회원번호','회원명','구분3','월매출(당월)','매출금액(당월)','월요금(당월)','이용금액(당월)','파트너사회원번호','파트너명','채널']]\n",
    "merge8.columns = ['회원번호','회원명','구분3','NCD예측월매출','BOA월매출','NCD예측월요금','BOA월요금','파트너사회원번호','파트너명','채널']\n",
    "pt = merge8[merge8['채널'] == '파트너 매출']\n",
    "pt['파트너할인율'] = 0\n",
    "pt.loc[:, '파트너할인율'] = 1 - (pt['BOA월매출'] / pt['NCD예측월매출'])\n",
    "\n",
    "pt = pt[['회원번호', '구분3', '파트너사회원번호','파트너할인율']]\n",
    "\n",
    "merge8 = pd.merge(merge8, pt, how='left', on=['회원번호', '구분3'])\n",
    "\n",
    "merge8['파트너할인율'] = merge8['파트너할인율'].fillna(0)\n",
    "\n",
    "merge8['NCD예측월매출'] = merge8['NCD예측월매출'] * (1 - merge8['파트너할인율'])\n",
    "pt"
   ]
  },
  {
   "cell_type": "code",
   "execution_count": 249,
   "id": "ad080739-d3e7-442e-86ec-e6e5d29e091e",
   "metadata": {},
   "outputs": [],
   "source": [
    "pt.to_excel('/Users/user/Documents/업무문서/pt8.xlsx',index=False)"
   ]
  },
  {
   "cell_type": "code",
   "execution_count": 250,
   "id": "3e7043bb-6740-424d-9628-6aff120681c6",
   "metadata": {},
   "outputs": [],
   "source": [
    "pt2 = pt.groupby(['구분3','파트너사회원번호'])['파트너할인율'].mean().reset_index()"
   ]
  },
  {
   "cell_type": "code",
   "execution_count": 253,
   "id": "9f7f6da7-63a7-4316-95f4-09b2fd94631d",
   "metadata": {},
   "outputs": [],
   "source": [
    "pt2.to_excel('/Users/user/Documents/업무문서/pt8_2.xlsx',index=False)"
   ]
  },
  {
   "cell_type": "code",
   "execution_count": 243,
   "id": "9068687f-b5ee-4603-9be2-133004b33631",
   "metadata": {},
   "outputs": [],
   "source": [
    "merge8.to_excel('/Users/user/Documents/업무문서/merge8_partnerdiscount.xlsx',index=False)"
   ]
  },
  {
   "cell_type": "code",
   "execution_count": 244,
   "id": "8c7c9cc1-16a4-46b9-8740-1129c77f1b59",
   "metadata": {},
   "outputs": [],
   "source": [
    "ncd8 = ncd8.sort_values(by= ['회원번호','미터링일시'])"
   ]
  },
  {
   "cell_type": "code",
   "execution_count": 245,
   "id": "5960d031-9650-44a0-b7d2-9509599252d7",
   "metadata": {},
   "outputs": [],
   "source": [
    "last8 = ncd8.drop_duplicates(subset=['회원번호', '청구유형코드명'], keep='last').reset_index()"
   ]
  },
  {
   "cell_type": "code",
   "execution_count": 246,
   "id": "7fa605a6-695e-47a8-8d6f-145f91567db7",
   "metadata": {},
   "outputs": [],
   "source": [
    "churn8 = last8[(last8['약정여부']=='N')&(last8['미터링일시'] != 20240831)]\n",
    "churn8 = churn8.drop('index',axis=1)"
   ]
  },
  {
   "cell_type": "code",
   "execution_count": 247,
   "id": "30a0b20f-35f3-4377-8bb0-24b650d3233b",
   "metadata": {},
   "outputs": [
    {
     "ename": "ValueError",
     "evalue": "Length mismatch: Expected axis has 10 elements, new values have 9 elements",
     "output_type": "error",
     "traceback": [
      "\u001b[0;31m---------------------------------------------------------------------------\u001b[0m",
      "\u001b[0;31mValueError\u001b[0m                                Traceback (most recent call last)",
      "Cell \u001b[0;32mIn[247], line 1\u001b[0m\n\u001b[0;32m----> 1\u001b[0m churn8\u001b[38;5;241m.\u001b[39mcolumns \u001b[38;5;241m=\u001b[39m [\u001b[38;5;124m'\u001b[39m\u001b[38;5;124m회원번호\u001b[39m\u001b[38;5;124m'\u001b[39m,\u001b[38;5;124m'\u001b[39m\u001b[38;5;124m회원그룹코드\u001b[39m\u001b[38;5;124m'\u001b[39m,\u001b[38;5;124m'\u001b[39m\u001b[38;5;124m구분3\u001b[39m\u001b[38;5;124m'\u001b[39m,\u001b[38;5;124m'\u001b[39m\u001b[38;5;124m상품명\u001b[39m\u001b[38;5;124m'\u001b[39m,\u001b[38;5;124m'\u001b[39m\u001b[38;5;124m탈퇴일\u001b[39m\u001b[38;5;124m'\u001b[39m,\u001b[38;5;124m'\u001b[39m\u001b[38;5;124m사용량\u001b[39m\u001b[38;5;124m'\u001b[39m,\u001b[38;5;124m'\u001b[39m\u001b[38;5;124m약정여부\u001b[39m\u001b[38;5;124m'\u001b[39m,\u001b[38;5;124m'\u001b[39m\u001b[38;5;124m월매출(당월)\u001b[39m\u001b[38;5;124m'\u001b[39m,\u001b[38;5;124m'\u001b[39m\u001b[38;5;124m월요금(당월)\u001b[39m\u001b[38;5;124m'\u001b[39m]\n\u001b[1;32m      2\u001b[0m churn8 \u001b[38;5;241m=\u001b[39m churn8\u001b[38;5;241m.\u001b[39msort_values(by\u001b[38;5;241m=\u001b[39m\u001b[38;5;124m'\u001b[39m\u001b[38;5;124m탈퇴일\u001b[39m\u001b[38;5;124m'\u001b[39m)\n\u001b[1;32m      3\u001b[0m churn8\u001b[38;5;241m.\u001b[39mto_excel(\u001b[38;5;124m'\u001b[39m\u001b[38;5;124m/Users/user/Documents/업무문서/churn8.xlsx\u001b[39m\u001b[38;5;124m'\u001b[39m,index\u001b[38;5;241m=\u001b[39m\u001b[38;5;28;01mFalse\u001b[39;00m)\n",
      "File \u001b[0;32m/opt/anaconda3/lib/python3.12/site-packages/pandas/core/generic.py:6313\u001b[0m, in \u001b[0;36mNDFrame.__setattr__\u001b[0;34m(self, name, value)\u001b[0m\n\u001b[1;32m   6311\u001b[0m \u001b[38;5;28;01mtry\u001b[39;00m:\n\u001b[1;32m   6312\u001b[0m     \u001b[38;5;28mobject\u001b[39m\u001b[38;5;241m.\u001b[39m\u001b[38;5;21m__getattribute__\u001b[39m(\u001b[38;5;28mself\u001b[39m, name)\n\u001b[0;32m-> 6313\u001b[0m     \u001b[38;5;28;01mreturn\u001b[39;00m \u001b[38;5;28mobject\u001b[39m\u001b[38;5;241m.\u001b[39m\u001b[38;5;21m__setattr__\u001b[39m(\u001b[38;5;28mself\u001b[39m, name, value)\n\u001b[1;32m   6314\u001b[0m \u001b[38;5;28;01mexcept\u001b[39;00m \u001b[38;5;167;01mAttributeError\u001b[39;00m:\n\u001b[1;32m   6315\u001b[0m     \u001b[38;5;28;01mpass\u001b[39;00m\n",
      "File \u001b[0;32mproperties.pyx:69\u001b[0m, in \u001b[0;36mpandas._libs.properties.AxisProperty.__set__\u001b[0;34m()\u001b[0m\n",
      "File \u001b[0;32m/opt/anaconda3/lib/python3.12/site-packages/pandas/core/generic.py:814\u001b[0m, in \u001b[0;36mNDFrame._set_axis\u001b[0;34m(self, axis, labels)\u001b[0m\n\u001b[1;32m    809\u001b[0m \u001b[38;5;250m\u001b[39m\u001b[38;5;124;03m\"\"\"\u001b[39;00m\n\u001b[1;32m    810\u001b[0m \u001b[38;5;124;03mThis is called from the cython code when we set the `index` attribute\u001b[39;00m\n\u001b[1;32m    811\u001b[0m \u001b[38;5;124;03mdirectly, e.g. `series.index = [1, 2, 3]`.\u001b[39;00m\n\u001b[1;32m    812\u001b[0m \u001b[38;5;124;03m\"\"\"\u001b[39;00m\n\u001b[1;32m    813\u001b[0m labels \u001b[38;5;241m=\u001b[39m ensure_index(labels)\n\u001b[0;32m--> 814\u001b[0m \u001b[38;5;28mself\u001b[39m\u001b[38;5;241m.\u001b[39m_mgr\u001b[38;5;241m.\u001b[39mset_axis(axis, labels)\n\u001b[1;32m    815\u001b[0m \u001b[38;5;28mself\u001b[39m\u001b[38;5;241m.\u001b[39m_clear_item_cache()\n",
      "File \u001b[0;32m/opt/anaconda3/lib/python3.12/site-packages/pandas/core/internals/managers.py:238\u001b[0m, in \u001b[0;36mBaseBlockManager.set_axis\u001b[0;34m(self, axis, new_labels)\u001b[0m\n\u001b[1;32m    236\u001b[0m \u001b[38;5;28;01mdef\u001b[39;00m \u001b[38;5;21mset_axis\u001b[39m(\u001b[38;5;28mself\u001b[39m, axis: AxisInt, new_labels: Index) \u001b[38;5;241m-\u001b[39m\u001b[38;5;241m>\u001b[39m \u001b[38;5;28;01mNone\u001b[39;00m:\n\u001b[1;32m    237\u001b[0m     \u001b[38;5;66;03m# Caller is responsible for ensuring we have an Index object.\u001b[39;00m\n\u001b[0;32m--> 238\u001b[0m     \u001b[38;5;28mself\u001b[39m\u001b[38;5;241m.\u001b[39m_validate_set_axis(axis, new_labels)\n\u001b[1;32m    239\u001b[0m     \u001b[38;5;28mself\u001b[39m\u001b[38;5;241m.\u001b[39maxes[axis] \u001b[38;5;241m=\u001b[39m new_labels\n",
      "File \u001b[0;32m/opt/anaconda3/lib/python3.12/site-packages/pandas/core/internals/base.py:98\u001b[0m, in \u001b[0;36mDataManager._validate_set_axis\u001b[0;34m(self, axis, new_labels)\u001b[0m\n\u001b[1;32m     95\u001b[0m     \u001b[38;5;28;01mpass\u001b[39;00m\n\u001b[1;32m     97\u001b[0m \u001b[38;5;28;01melif\u001b[39;00m new_len \u001b[38;5;241m!=\u001b[39m old_len:\n\u001b[0;32m---> 98\u001b[0m     \u001b[38;5;28;01mraise\u001b[39;00m \u001b[38;5;167;01mValueError\u001b[39;00m(\n\u001b[1;32m     99\u001b[0m         \u001b[38;5;124mf\u001b[39m\u001b[38;5;124m\"\u001b[39m\u001b[38;5;124mLength mismatch: Expected axis has \u001b[39m\u001b[38;5;132;01m{\u001b[39;00mold_len\u001b[38;5;132;01m}\u001b[39;00m\u001b[38;5;124m elements, new \u001b[39m\u001b[38;5;124m\"\u001b[39m\n\u001b[1;32m    100\u001b[0m         \u001b[38;5;124mf\u001b[39m\u001b[38;5;124m\"\u001b[39m\u001b[38;5;124mvalues have \u001b[39m\u001b[38;5;132;01m{\u001b[39;00mnew_len\u001b[38;5;132;01m}\u001b[39;00m\u001b[38;5;124m elements\u001b[39m\u001b[38;5;124m\"\u001b[39m\n\u001b[1;32m    101\u001b[0m     )\n",
      "\u001b[0;31mValueError\u001b[0m: Length mismatch: Expected axis has 10 elements, new values have 9 elements"
     ]
    }
   ],
   "source": [
    "churn8.columns = ['회원번호','회원그룹코드','구분3','상품명','탈퇴일','사용량','약정여부','월매출(당월)','월요금(당월)']\n",
    "churn8 = churn8.sort_values(by='탈퇴일')\n",
    "churn8.to_excel('/Users/user/Documents/업무문서/churn8.xlsx',index=False)"
   ]
  },
  {
   "cell_type": "code",
   "execution_count": null,
   "id": "27d8a1a9-2707-452f-92fe-e686e6263fc0",
   "metadata": {},
   "outputs": [],
   "source": []
  },
  {
   "cell_type": "code",
   "execution_count": null,
   "id": "8076a05b-2939-4794-8218-27c51774fee9",
   "metadata": {},
   "outputs": [],
   "source": []
  }
 ],
 "metadata": {
  "kernelspec": {
   "display_name": "Python 3 (ipykernel)",
   "language": "python",
   "name": "python3"
  },
  "language_info": {
   "codemirror_mode": {
    "name": "ipython",
    "version": 3
   },
   "file_extension": ".py",
   "mimetype": "text/x-python",
   "name": "python",
   "nbconvert_exporter": "python",
   "pygments_lexer": "ipython3",
   "version": "3.12.4"
  }
 },
 "nbformat": 4,
 "nbformat_minor": 5
}
